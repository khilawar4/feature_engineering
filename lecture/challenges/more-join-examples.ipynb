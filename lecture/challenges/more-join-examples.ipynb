{
 "cells": [
  {
   "cell_type": "markdown",
   "metadata": {
    "colab_type": "text",
    "id": "pmU5YUal1eTZ"
   },
   "source": [
    "# Join and Reshape datasets\n",
    "\n",
    "Objectives\n",
    "- concatenate data with pandas\n",
    "- merge data with pandas\n",
    "-  understand tidy data formatting\n",
    "-  melt and pivot data with pandas\n",
    "\n",
    "Links\n",
    "- [Pandas Cheat Sheet](https://github.com/pandas-dev/pandas/blob/master/doc/cheatsheet/Pandas_Cheat_Sheet.pdf)\n",
    "- [Tidy Data](https://en.wikipedia.org/wiki/Tidy_data)\n",
    "  - Combine Data Sets: Standard Joins\n",
    "  - Tidy Data\n",
    "  - Reshaping Data\n",
    "- Python Data Science Handbook\n",
    "  - [Chapter 3.6](https://jakevdp.github.io/PythonDataScienceHandbook/03.06-concat-and-append.html), Combining Datasets: Concat and Append\n",
    "  - [Chapter 3.7](https://jakevdp.github.io/PythonDataScienceHandbook/03.07-merge-and-join.html), Combining Datasets: Merge and Join\n",
    "  - [Chapter 3.8](https://jakevdp.github.io/PythonDataScienceHandbook/03.08-aggregation-and-grouping.html), Aggregation and Grouping\n",
    "  - [Chapter 3.9](https://jakevdp.github.io/PythonDataScienceHandbook/03.09-pivot-tables.html), Pivot Tables\n",
    "  \n",
    "Reference\n",
    "- Pandas Documentation: [Reshaping and Pivot Tables](https://pandas.pydata.org/pandas-docs/stable/reshaping.html)\n",
    "- Modern Pandas, Part 5: [Tidy Data](https://tomaugspurger.github.io/modern-5-tidy.html)\n",
    "- [Hadley Wickham's famous paper](http://vita.had.co.nz/papers/tidy-data.html) on Tidy Data"
   ]
  },
  {
   "cell_type": "markdown",
   "metadata": {
    "colab_type": "text",
    "id": "Zq33sTp2PAer"
   },
   "source": [
    "**Always start with imports**"
   ]
  },
  {
   "cell_type": "code",
   "execution_count": 1,
   "metadata": {
    "colab": {},
    "colab_type": "code",
    "id": "Y5GgUq56PAes"
   },
   "outputs": [],
   "source": [
    "import matplotlib.pyplot as plt\n",
    "%matplotlib inline\n",
    "import pandas as pd\n",
    "import numpy as np\n",
    "import seaborn as sns"
   ]
  },
  {
   "cell_type": "markdown",
   "metadata": {
    "colab_type": "text",
    "id": "6fKF-9GKPAeu"
   },
   "source": [
    "## Part 1: Simple Examples "
   ]
  },
  {
   "cell_type": "markdown",
   "metadata": {
    "colab_type": "text",
    "id": "cGyD6i_wPAev"
   },
   "source": [
    "### 1.1 Concatenate\n",
    "Concatenate sticks dataframes together, either on top of each other, or next to each other."
   ]
  },
  {
   "cell_type": "markdown",
   "metadata": {
    "colab_type": "text",
    "id": "AnfYd8fNPAew"
   },
   "source": [
    "First, let's create two dataframes, `df1` and `df2`."
   ]
  },
  {
   "cell_type": "code",
   "execution_count": 2,
   "metadata": {
    "colab": {
     "base_uri": "https://localhost:8080/",
     "height": 106
    },
    "colab_type": "code",
    "id": "XrodzwvfPAex",
    "outputId": "02c14412-da08-4dfe-da7e-9bc659c747f2"
   },
   "outputs": [],
   "source": [
    "# Create df1\n"
   ]
  },
  {
   "cell_type": "code",
   "execution_count": 3,
   "metadata": {
    "colab": {
     "base_uri": "https://localhost:8080/",
     "height": 106
    },
    "colab_type": "code",
    "id": "w6xuqE3gPAe0",
    "outputId": "49c0e76e-6d07-47be-deb6-9692f0b6b4bb"
   },
   "outputs": [],
   "source": [
    "# Create df2\n"
   ]
  },
  {
   "cell_type": "code",
   "execution_count": 4,
   "metadata": {
    "colab": {
     "base_uri": "https://localhost:8080/",
     "height": 166
    },
    "colab_type": "code",
    "id": "ES9HHqwvPAe2",
    "outputId": "32b03a5b-87d9-4b79-97d9-ef61b7016fa7"
   },
   "outputs": [],
   "source": [
    "# Next, let's stick the dataframes on top of each other using `concat`.\n",
    "# `axis=0` indicates a row operation. Note that 'axis=0' is the default and doesn't have to be specified.\n"
   ]
  },
  {
   "cell_type": "code",
   "execution_count": 5,
   "metadata": {
    "colab": {
     "base_uri": "https://localhost:8080/",
     "height": 106
    },
    "colab_type": "code",
    "id": "6lNU3JPMPAe4",
    "outputId": "af09d101-8806-4e62-e104-14ae02a432c2"
   },
   "outputs": [],
   "source": [
    "# Finally, let's stick the dataframes next to each other using `concat`. \n",
    "# Here, `axis=1` indicates a column operation.\n"
   ]
  },
  {
   "cell_type": "markdown",
   "metadata": {
    "colab_type": "text",
    "id": "pXU-4ocHPAe6"
   },
   "source": [
    "### 1.2 Merge"
   ]
  },
  {
   "cell_type": "markdown",
   "metadata": {
    "colab_type": "text",
    "id": "2WbRIzZLPAe7"
   },
   "source": [
    "Merging joins two datasets together based on a common key."
   ]
  },
  {
   "cell_type": "code",
   "execution_count": 6,
   "metadata": {
    "colab": {
     "base_uri": "https://localhost:8080/",
     "height": 195
    },
    "colab_type": "code",
    "id": "2XWEA777QLJG",
    "outputId": "f5fc369f-61cc-44ac-f509-27039fd2f93e"
   },
   "outputs": [],
   "source": [
    "# stock names\n"
   ]
  },
  {
   "cell_type": "code",
   "execution_count": 7,
   "metadata": {
    "colab": {
     "base_uri": "https://localhost:8080/",
     "height": 195
    },
    "colab_type": "code",
    "id": "_-2QemENPAe8",
    "outputId": "9d9efd98-9f7d-43b8-ae4f-ae2c19c8fe55"
   },
   "outputs": [],
   "source": [
    "# stock prices.\n"
   ]
  },
  {
   "cell_type": "code",
   "execution_count": 8,
   "metadata": {
    "colab": {
     "base_uri": "https://localhost:8080/",
     "height": 195
    },
    "colab_type": "code",
    "id": "S1c_LpJrPAfA",
    "outputId": "fbe6a1ae-02fd-4432-a4ab-e8ba41ea6b01"
   },
   "outputs": [],
   "source": [
    "# Merge these dataframes.\n"
   ]
  },
  {
   "cell_type": "code",
   "execution_count": 9,
   "metadata": {
    "colab": {
     "base_uri": "https://localhost:8080/",
     "height": 195
    },
    "colab_type": "code",
    "id": "wVqifocPPAfC",
    "outputId": "7dafa980-231b-4a95-c7ab-cda7eda1ca98"
   },
   "outputs": [],
   "source": [
    "# Create a 3rd dataset of weekly highs\n"
   ]
  },
  {
   "cell_type": "markdown",
   "metadata": {
    "colab_type": "text",
    "id": "tbjIOcdds-IL"
   },
   "source": [
    "The 'on' parameter indicates a specific column that is contained in both dataframes. We use it to look up and copy information from the two df's into a combined df."
   ]
  },
  {
   "cell_type": "code",
   "execution_count": 10,
   "metadata": {
    "colab": {
     "base_uri": "https://localhost:8080/",
     "height": 225
    },
    "colab_type": "code",
    "id": "JQBwUUAoPAfE",
    "outputId": "53ea5d45-1d73-4af2-f9b4-a5ac02bc8dbc"
   },
   "outputs": [],
   "source": [
    "# Now merge that with the named stocks.\n"
   ]
  },
  {
   "cell_type": "markdown",
   "metadata": {
    "colab_type": "text",
    "id": "fIF82OwztnQt"
   },
   "source": [
    "The 'how' parameter indicates what the portion of the selected dataframes to keep after the merge takes place.  \n",
    "https://www.shanelynn.ie/merge-join-dataframes-python-pandas-index-1/"
   ]
  },
  {
   "cell_type": "code",
   "execution_count": 11,
   "metadata": {
    "colab": {
     "base_uri": "https://localhost:8080/",
     "height": 321
    },
    "colab_type": "code",
    "id": "V2phRPbbth7z",
    "outputId": "42f44af4-1c50-42df-e983-69eb7158e712"
   },
   "outputs": [],
   "source": [
    "# This is code to display a `.png` inside of a jupyter notebook.\n"
   ]
  },
  {
   "cell_type": "markdown",
   "metadata": {
    "colab_type": "text",
    "id": "dDfzKXJdwApV"
   },
   "source": [
    "### 1.3 Reshape: `melt` and `pivot_table`\n",
    "\n"
   ]
  },
  {
   "cell_type": "markdown",
   "metadata": {
    "colab_type": "text",
    "id": "4stCppWhwIx0"
   },
   "source": [
    "Why reshape data?\n",
    "\n",
    "**Some libraries prefer data in different formats**\n",
    "\n",
    "\n",
    "\n",
    "> For example, the Seaborn data visualization library prefers data in \"Tidy\" format often (but not always).  \n",
    "[Seaborn will be most powerful when your datasets have a particular organization.](https://seaborn.pydata.org/introduction.html#organizing-datasets)    \n",
    "This format ia alternately called “long-form” or “tidy” data and is described in detail by Hadley Wickham. The rules can be simply stated:\n",
    "\n",
    "> - Each variable is a column\n",
    "- Each observation is a row\n",
    "\n",
    "> A helpful mindset for determining whether your data are tidy is to think backwards from the plot you want to draw. From this perspective, a “variable” is something that will be assigned a role in the plot.\"\n",
    "\n",
    "Data science is often about putting square pegs in round holes. Here's an inspiring [video clip from _Apollo 13_](https://www.youtube.com/watch?v=ry55--J4_VQ): “Invent a way to put a square peg in a round hole.” It's a good metaphor for data wrangling!"
   ]
  },
  {
   "cell_type": "markdown",
   "metadata": {
    "colab_type": "text",
    "id": "79KITszBwXp7"
   },
   "source": [
    "**Hadley Wickham: 'wide' format vs. 'tidy' format**  \n",
    "From his paper, [Tidy Data](http://vita.had.co.nz/papers/tidy-data.html)"
   ]
  },
  {
   "cell_type": "code",
   "execution_count": 12,
   "metadata": {
    "colab": {},
    "colab_type": "code",
    "id": "Jna5sk5FwYHr"
   },
   "outputs": [],
   "source": [
    "# Let's create a simple table.\n"
   ]
  },
  {
   "cell_type": "markdown",
   "metadata": {
    "colab_type": "text",
    "id": "eWe5rpI9wdvT"
   },
   "source": [
    "\"Table 1 provides some data about an imaginary experiment in a format commonly seen in the wild.   \n",
    "The table has two columns and three rows, and both rows and columns are labelled.\""
   ]
  },
  {
   "cell_type": "code",
   "execution_count": 13,
   "metadata": {
    "colab": {
     "base_uri": "https://localhost:8080/",
     "height": 136
    },
    "colab_type": "code",
    "id": "2LecRwp5PAfM",
    "outputId": "f5fd751d-7251-4f40-861e-95f58d995344"
   },
   "outputs": [],
   "source": [
    "# This is an example of 'wide' format:"
   ]
  },
  {
   "cell_type": "markdown",
   "metadata": {
    "colab_type": "text",
    "id": "SaEcDmZhwmon"
   },
   "source": [
    "\"There are many ways to structure the same underlying data.   \n",
    "Table 2 shows the same data as Table 1, but the rows and columns have been transposed. The data is the same, but the layout is different.\""
   ]
  },
  {
   "cell_type": "code",
   "execution_count": 14,
   "metadata": {
    "colab": {
     "base_uri": "https://localhost:8080/",
     "height": 106
    },
    "colab_type": "code",
    "id": "SwDVoCj5woAn",
    "outputId": "c7212520-79f4-4f50-f3dc-a45a263ea62a"
   },
   "outputs": [],
   "source": [
    "# Exactly the same information can be displayed by transposing the table. \n",
    "# (this is also another form of 'wide' format)"
   ]
  },
  {
   "cell_type": "markdown",
   "metadata": {
    "colab_type": "text",
    "id": "k3ratDNbwsyN"
   },
   "source": [
    "Table 3 is an example of 'tidy' format. It reorganises Table 1  to make the values, variables and obserations more clear.\n",
    "\n",
    "Table 3 is the 'tidy' version of Table 1. Each row represents an observation, the result of one treatment on one person, and each column is a variable.\"\n",
    "\n",
    "| name         | trt | result |\n",
    "|--------------|-----|--------|\n",
    "| John Smith   | a   | -      |\n",
    "| Jane Doe     | a   | 16     |\n",
    "| Mary Johnson | a   | 3      |\n",
    "| John Smith   | b   | 2      |\n",
    "| Jane Doe     | b   | 11     |\n",
    "| Mary Johnson | b   | 1      |"
   ]
  },
  {
   "cell_type": "markdown",
   "metadata": {
    "colab_type": "text",
    "id": "WsvD1I3TwwnI"
   },
   "source": [
    "**Table 1 --> Tidy**\n",
    "\n",
    "We can use the pandas `melt` function to reshape Table 1 into Tidy format."
   ]
  },
  {
   "cell_type": "code",
   "execution_count": 15,
   "metadata": {
    "colab": {
     "base_uri": "https://localhost:8080/",
     "height": 34
    },
    "colab_type": "code",
    "id": "S48tKmC46veF",
    "outputId": "e6417c08-82a2-462b-e692-1c60afb42a17"
   },
   "outputs": [],
   "source": [
    "# First, get the column names as a list."
   ]
  },
  {
   "cell_type": "code",
   "execution_count": 16,
   "metadata": {
    "colab": {
     "base_uri": "https://localhost:8080/",
     "height": 34
    },
    "colab_type": "code",
    "id": "eKZW1b-2z6Eq",
    "outputId": "ec0be94a-d3d0-403b-8ff2-237de41fe078"
   },
   "outputs": [],
   "source": [
    "# Now get the index values as another list."
   ]
  },
  {
   "cell_type": "code",
   "execution_count": 17,
   "metadata": {
    "colab": {
     "base_uri": "https://localhost:8080/",
     "height": 136
    },
    "colab_type": "code",
    "id": "QOG14s6Iz9-F",
    "outputId": "8426b500-f0d4-4aa1-e218-f28979fcce97"
   },
   "outputs": [],
   "source": [
    "# For table 1, convert the index into a column using the `reset_index` method."
   ]
  },
  {
   "cell_type": "code",
   "execution_count": 18,
   "metadata": {
    "colab": {
     "base_uri": "https://localhost:8080/",
     "height": 225
    },
    "colab_type": "code",
    "id": "6X8LgIN70NDJ",
    "outputId": "05a7fe88-6046-472e-d380-553c50db31ad"
   },
   "outputs": [],
   "source": [
    "# Convert the table from 'wide' to 'tidy' format using the `melt` method."
   ]
  },
  {
   "cell_type": "code",
   "execution_count": 19,
   "metadata": {
    "colab": {
     "base_uri": "https://localhost:8080/",
     "height": 225
    },
    "colab_type": "code",
    "id": "Et0Q6PMe0qbH",
    "outputId": "a3b07501-bed8-4927-f084-2e2a8fdfc76a"
   },
   "outputs": [],
   "source": [
    "# rename the columns"
   ]
  },
  {
   "cell_type": "markdown",
   "metadata": {
    "colab_type": "text",
    "id": "Ck15sXaJxPrd"
   },
   "source": [
    "**Table 2 --> Tidy**"
   ]
  },
  {
   "cell_type": "code",
   "execution_count": 20,
   "metadata": {
    "colab": {},
    "colab_type": "code",
    "id": "k2Qn94RIxQhV"
   },
   "outputs": [],
   "source": [
    "# first you can transpose it"
   ]
  },
  {
   "cell_type": "code",
   "execution_count": 21,
   "metadata": {},
   "outputs": [],
   "source": [
    "# now use \"melt\" and give it some new column names"
   ]
  },
  {
   "cell_type": "code",
   "execution_count": 22,
   "metadata": {},
   "outputs": [],
   "source": [
    "# now clean up the column names etc."
   ]
  },
  {
   "cell_type": "markdown",
   "metadata": {
    "colab_type": "text",
    "id": "As0W7PWLxea3"
   },
   "source": [
    "**Tidy --> Table 1**\n",
    "\n",
    "The `pivot_table` function is the inverse of `melt`."
   ]
  },
  {
   "cell_type": "code",
   "execution_count": 23,
   "metadata": {
    "colab": {
     "base_uri": "https://localhost:8080/",
     "height": 166
    },
    "colab_type": "code",
    "id": "CdZZiLYoxfJC",
    "outputId": "70663b42-90de-43bb-a509-e16db31cffbb"
   },
   "outputs": [],
   "source": [
    "# Let's do it all in reverse."
   ]
  },
  {
   "cell_type": "markdown",
   "metadata": {
    "colab_type": "text",
    "id": "3GeAKoSZxoPS"
   },
   "source": [
    "**Tidy --> Table 2**"
   ]
  },
  {
   "cell_type": "code",
   "execution_count": 24,
   "metadata": {
    "colab": {},
    "colab_type": "code",
    "id": "W2jjciN2xk9r"
   },
   "outputs": [],
   "source": [
    "# Do the same thing you did to table 1, but then transpose it when you're finished"
   ]
  },
  {
   "cell_type": "markdown",
   "metadata": {
    "colab_type": "text",
    "id": "jr0jQy6Oxqi7"
   },
   "source": [
    "**Seaborn example**\n",
    "\n",
    "The rules can be simply stated:\n",
    "\n",
    "- Each variable is a column\n",
    "- Each observation is a row\n",
    "\n",
    "A helpful mindset for determining whether your data are tidy is to think backwards from the plot you want to draw. From this perspective, a “variable” is something that will be assigned a role in the plot.\""
   ]
  },
  {
   "cell_type": "code",
   "execution_count": null,
   "metadata": {
    "colab": {
     "base_uri": "https://localhost:8080/",
     "height": 153
    },
    "colab_type": "code",
    "id": "kWo3FIP9xuKo",
    "outputId": "664c09bf-dccb-4ec7-a9a2-6cab4af82506"
   },
   "outputs": [],
   "source": []
  },
  {
   "cell_type": "markdown",
   "metadata": {
    "colab_type": "text",
    "id": "7PdjonFgPAfj"
   },
   "source": [
    "## Part 2: More complex examples "
   ]
  },
  {
   "cell_type": "markdown",
   "metadata": {
    "colab_type": "text",
    "id": "CHDWwgErPAfj"
   },
   "source": [
    "### 2.1 Concatenating time-series datasets from Chicago"
   ]
  },
  {
   "cell_type": "code",
   "execution_count": 25,
   "metadata": {
    "colab": {},
    "colab_type": "code",
    "id": "eXc90I3tPAfk"
   },
   "outputs": [],
   "source": [
    "# Here's some data about Chicago bikesharing."
   ]
  },
  {
   "cell_type": "code",
   "execution_count": 26,
   "metadata": {
    "colab": {
     "base_uri": "https://localhost:8080/",
     "height": 333
    },
    "colab_type": "code",
    "id": "5I0WnUhBPAfm",
    "outputId": "9bb8f230-3962-47a0-fa73-65179f9a0821"
   },
   "outputs": [],
   "source": [
    "# Let's take a look at the first quarter."
   ]
  },
  {
   "cell_type": "code",
   "execution_count": 27,
   "metadata": {
    "colab": {
     "base_uri": "https://localhost:8080/",
     "height": 316
    },
    "colab_type": "code",
    "id": "VQpnFfyjPAfp",
    "outputId": "d5643354-e077-4f23-876e-474d1c89ecee"
   },
   "outputs": [],
   "source": [
    "# how about the second quarter?"
   ]
  },
  {
   "cell_type": "code",
   "execution_count": 28,
   "metadata": {
    "colab": {
     "base_uri": "https://localhost:8080/",
     "height": 151
    },
    "colab_type": "code",
    "id": "9HZrjYU8PAfr",
    "outputId": "a24f1481-4ecd-4fc1-b564-22422f427f78"
   },
   "outputs": [],
   "source": [
    "# Do they have exactly the same columns?"
   ]
  },
  {
   "cell_type": "code",
   "execution_count": 29,
   "metadata": {
    "colab": {
     "base_uri": "https://localhost:8080/",
     "height": 34
    },
    "colab_type": "code",
    "id": "5F5CDVwiPAft",
    "outputId": "4af9ce79-828f-4a16-bef5-5d7d22601a76"
   },
   "outputs": [],
   "source": [
    "# Let's define a function to check if they're REALLY equal."
   ]
  },
  {
   "cell_type": "code",
   "execution_count": 30,
   "metadata": {
    "colab": {
     "base_uri": "https://localhost:8080/",
     "height": 34
    },
    "colab_type": "code",
    "id": "BIKTuTbxPAfv",
    "outputId": "451b250c-1740-43e2-a7db-d4322a15fc80"
   },
   "outputs": [],
   "source": [
    "# Now we're sure they're equal, let's concatenate them."
   ]
  },
  {
   "cell_type": "code",
   "execution_count": 31,
   "metadata": {
    "colab": {
     "base_uri": "https://localhost:8080/",
     "height": 67
    },
    "colab_type": "code",
    "id": "gAnX1Qi2PAfx",
    "outputId": "12273332-e250-4ffa-df37-63033a26497a"
   },
   "outputs": [],
   "source": [
    "# Confirm that did what we wanted it to."
   ]
  },
  {
   "cell_type": "code",
   "execution_count": 32,
   "metadata": {
    "colab": {
     "base_uri": "https://localhost:8080/",
     "height": 270
    },
    "colab_type": "code",
    "id": "cumOJh3ePAf1",
    "outputId": "7a93466a-8c48-4479-90c1-8f5be35cb2e4"
   },
   "outputs": [],
   "source": [
    "# Now add quarters 3 and 4, as well."
   ]
  },
  {
   "cell_type": "markdown",
   "metadata": {},
   "source": [
    "### Working with datetime objects"
   ]
  },
  {
   "cell_type": "code",
   "execution_count": 33,
   "metadata": {},
   "outputs": [],
   "source": [
    "# Start time is an \"object\" time"
   ]
  },
  {
   "cell_type": "code",
   "execution_count": 34,
   "metadata": {},
   "outputs": [],
   "source": [
    "# Convert to datetime format and make it into a weekday"
   ]
  },
  {
   "cell_type": "code",
   "execution_count": 35,
   "metadata": {},
   "outputs": [],
   "source": [
    "# Display a line chart with that info"
   ]
  },
  {
   "cell_type": "code",
   "execution_count": 36,
   "metadata": {},
   "outputs": [],
   "source": [
    "# Convert to datetime format and make it into a month"
   ]
  },
  {
   "cell_type": "code",
   "execution_count": 37,
   "metadata": {},
   "outputs": [],
   "source": [
    "# Display a line chart with that info"
   ]
  },
  {
   "cell_type": "code",
   "execution_count": 38,
   "metadata": {},
   "outputs": [],
   "source": [
    "# Convert to datetime format and make it into a weekday\n",
    "# The day of the week with Monday=0, Sunday=6."
   ]
  },
  {
   "cell_type": "code",
   "execution_count": 39,
   "metadata": {},
   "outputs": [],
   "source": [
    "# Display a line chart with that info"
   ]
  },
  {
   "cell_type": "code",
   "execution_count": 40,
   "metadata": {},
   "outputs": [],
   "source": [
    "# Do men and women have different cycling patterns?"
   ]
  },
  {
   "cell_type": "markdown",
   "metadata": {
    "colab_type": "text",
    "id": "jdzyMko1PAf5"
   },
   "source": [
    "### 2.2 Merging datasets about counties\n",
    "Original sources:  \n",
    "https://www.kaggle.com/muonneutrino/us-census-demographic-data/download  \n",
    "https://www.ers.usda.gov/data-products/rural-urban-continuum-codes/"
   ]
  },
  {
   "cell_type": "code",
   "execution_count": 41,
   "metadata": {
    "colab": {},
    "colab_type": "code",
    "id": "-qko78oMPAf6"
   },
   "outputs": [],
   "source": [
    "# Get some population data about counties from the Census Bureau\n",
    "source1='https://raw.githubusercontent.com/austinlasseter/dash-virginia-counties/master/resources/acs2017_county_data.csv'"
   ]
  },
  {
   "cell_type": "code",
   "execution_count": 42,
   "metadata": {
    "colab": {
     "base_uri": "https://localhost:8080/",
     "height": 299
    },
    "colab_type": "code",
    "id": "ehTb_armPAf8",
    "outputId": "b705841b-f53d-4f64-ba81-4253100f79da"
   },
   "outputs": [],
   "source": [
    "# Read that into Pandas, and check out 5 rows."
   ]
  },
  {
   "cell_type": "code",
   "execution_count": 43,
   "metadata": {
    "colab": {
     "base_uri": "https://localhost:8080/",
     "height": 151
    },
    "colab_type": "code",
    "id": "p8FR3foJPAf-",
    "outputId": "ca685dac-49a1-4954-d470-4b457c04b3ff"
   },
   "outputs": [],
   "source": [
    "# What are all the columns?"
   ]
  },
  {
   "cell_type": "code",
   "execution_count": 44,
   "metadata": {
    "colab": {},
    "colab_type": "code",
    "id": "3GKgIau2PAgA"
   },
   "outputs": [],
   "source": [
    "# Let's restrict that to just a few columns, for a simple analysis about commute times"
   ]
  },
  {
   "cell_type": "code",
   "execution_count": 45,
   "metadata": {
    "colab": {
     "base_uri": "https://localhost:8080/",
     "height": 34
    },
    "colab_type": "code",
    "id": "0bE5_1DQPAgC",
    "outputId": "44974748-ca76-4844-a0bc-1561ef02e0ed"
   },
   "outputs": [],
   "source": [
    "# What's the average commute in the USA?"
   ]
  },
  {
   "cell_type": "code",
   "execution_count": 46,
   "metadata": {
    "colab": {},
    "colab_type": "code",
    "id": "v3qXaxn4PAgH"
   },
   "outputs": [],
   "source": [
    "# Now let's augment that with some outside data from USDA.\n",
    "source2='https://github.com/austinlasseter/dash-virginia-counties/blob/master/resources/ruralurbancodes2013.xls?raw=true'"
   ]
  },
  {
   "cell_type": "code",
   "execution_count": 47,
   "metadata": {
    "colab": {
     "base_uri": "https://localhost:8080/",
     "height": 195
    },
    "colab_type": "code",
    "id": "6hP-Ur2uPAgK",
    "outputId": "53c74de6-86be-4a98-d8a7-24f9e7f94dfa"
   },
   "outputs": [],
   "source": [
    "# Take a look at that new data."
   ]
  },
  {
   "cell_type": "code",
   "execution_count": 48,
   "metadata": {
    "colab": {
     "base_uri": "https://localhost:8080/",
     "height": 343
    },
    "colab_type": "code",
    "id": "dkCrPlu5PAgN",
    "outputId": "3cd0e32d-8e44-482d-ace1-2763a3ae7946"
   },
   "outputs": [],
   "source": [
    "# What are those RUCC codes all about?"
   ]
  },
  {
   "cell_type": "code",
   "execution_count": 49,
   "metadata": {
    "colab": {},
    "colab_type": "code",
    "id": "E3BHed9TPAgP"
   },
   "outputs": [],
   "source": [
    "# Let's shrink that USDA data to just the columns we need."
   ]
  },
  {
   "cell_type": "code",
   "execution_count": 50,
   "metadata": {
    "colab": {
     "base_uri": "https://localhost:8080/",
     "height": 195
    },
    "colab_type": "code",
    "id": "2pbKxtOePAgR",
    "outputId": "31607b0c-5af4-4cd1-8355-14f97bb4c233"
   },
   "outputs": [],
   "source": [
    "# Let's merge that with our census data about commute times."
   ]
  },
  {
   "cell_type": "code",
   "execution_count": 51,
   "metadata": {
    "colab": {
     "base_uri": "https://localhost:8080/",
     "height": 343
    },
    "colab_type": "code",
    "id": "zzG1GnT2PAgT",
    "outputId": "c682ecd9-6f3d-478d-ff7a-7237f0fa0ddb"
   },
   "outputs": [],
   "source": [
    "# Is there any difference in commutes by rural-urban designation?"
   ]
  },
  {
   "cell_type": "code",
   "execution_count": 52,
   "metadata": {
    "colab": {
     "base_uri": "https://localhost:8080/",
     "height": 286
    },
    "colab_type": "code",
    "id": "S4Asz0TxPAgW",
    "outputId": "4f823fd7-f46a-4f08-8773-958fcb726e7d"
   },
   "outputs": [],
   "source": [
    "# Display that using the Pandas plotting function."
   ]
  },
  {
   "cell_type": "code",
   "execution_count": 53,
   "metadata": {},
   "outputs": [],
   "source": [
    "# Compare two states"
   ]
  },
  {
   "cell_type": "code",
   "execution_count": 54,
   "metadata": {},
   "outputs": [],
   "source": [
    "# Is there any difference in commutes by rural-urban designation?"
   ]
  },
  {
   "cell_type": "markdown",
   "metadata": {
    "colab_type": "text",
    "id": "WsvD1I3TwwnI"
   },
   "source": [
    "**Table 1 --> Tidy**\n",
    "\n",
    "We can use the pandas `melt` function to reshape the table into Tidy format."
   ]
  },
  {
   "cell_type": "code",
   "execution_count": 55,
   "metadata": {},
   "outputs": [],
   "source": [
    "# First, convert the index into columns."
   ]
  },
  {
   "cell_type": "code",
   "execution_count": 56,
   "metadata": {},
   "outputs": [],
   "source": [
    "# Let's do it all in reverse."
   ]
  },
  {
   "cell_type": "code",
   "execution_count": 57,
   "metadata": {},
   "outputs": [],
   "source": [
    "# Display that using the Pandas plotting function."
   ]
  }
 ],
 "metadata": {
  "colab": {
   "collapsed_sections": [],
   "name": "LS_DS_113_Join_and_Reshape_Data.ipynb",
   "provenance": []
  },
  "kernelspec": {
   "display_name": "Python 3",
   "language": "python",
   "name": "python3"
  },
  "language_info": {
   "codemirror_mode": {
    "name": "ipython",
    "version": 3
   },
   "file_extension": ".py",
   "mimetype": "text/x-python",
   "name": "python",
   "nbconvert_exporter": "python",
   "pygments_lexer": "ipython3",
   "version": "3.8.5"
  }
 },
 "nbformat": 4,
 "nbformat_minor": 1
}
