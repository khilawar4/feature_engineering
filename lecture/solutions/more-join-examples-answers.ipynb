{
 "cells": [
  {
   "cell_type": "markdown",
   "metadata": {
    "colab_type": "text",
    "id": "pmU5YUal1eTZ"
   },
   "source": [
    "# Join and Reshape datasets\n",
    "\n",
    "Objectives\n",
    "- concatenate data with pandas\n",
    "- merge data with pandas\n",
    "-  understand tidy data formatting\n",
    "-  melt and pivot data with pandas\n",
    "\n",
    "Links\n",
    "- [Pandas Cheat Sheet](https://github.com/pandas-dev/pandas/blob/master/doc/cheatsheet/Pandas_Cheat_Sheet.pdf)\n",
    "- [Tidy Data](https://en.wikipedia.org/wiki/Tidy_data)\n",
    "  - Combine Data Sets: Standard Joins\n",
    "  - Tidy Data\n",
    "  - Reshaping Data\n",
    "- Python Data Science Handbook\n",
    "  - [Chapter 3.6](https://jakevdp.github.io/PythonDataScienceHandbook/03.06-concat-and-append.html), Combining Datasets: Concat and Append\n",
    "  - [Chapter 3.7](https://jakevdp.github.io/PythonDataScienceHandbook/03.07-merge-and-join.html), Combining Datasets: Merge and Join\n",
    "  - [Chapter 3.8](https://jakevdp.github.io/PythonDataScienceHandbook/03.08-aggregation-and-grouping.html), Aggregation and Grouping\n",
    "  - [Chapter 3.9](https://jakevdp.github.io/PythonDataScienceHandbook/03.09-pivot-tables.html), Pivot Tables\n",
    "  \n",
    "Reference\n",
    "- Pandas Documentation: [Reshaping and Pivot Tables](https://pandas.pydata.org/pandas-docs/stable/reshaping.html)\n",
    "- Modern Pandas, Part 5: [Tidy Data](https://tomaugspurger.github.io/modern-5-tidy.html)\n",
    "- [Hadley Wickham's famous paper](http://vita.had.co.nz/papers/tidy-data.html) on Tidy Data"
   ]
  },
  {
   "cell_type": "markdown",
   "metadata": {
    "colab_type": "text",
    "id": "Zq33sTp2PAer"
   },
   "source": [
    "**Always start with imports**"
   ]
  },
  {
   "cell_type": "code",
   "execution_count": 1,
   "metadata": {
    "colab": {},
    "colab_type": "code",
    "id": "Y5GgUq56PAes"
   },
   "outputs": [],
   "source": [
    "import matplotlib.pyplot as plt\n",
    "%matplotlib inline\n",
    "import pandas as pd\n",
    "import numpy as np\n",
    "import seaborn as sns"
   ]
  },
  {
   "cell_type": "markdown",
   "metadata": {
    "colab_type": "text",
    "id": "6fKF-9GKPAeu"
   },
   "source": [
    "## Part 1: Simple Examples "
   ]
  },
  {
   "cell_type": "markdown",
   "metadata": {
    "colab_type": "text",
    "id": "cGyD6i_wPAev"
   },
   "source": [
    "### 1.1 Concatenate\n",
    "Concatenate sticks dataframes together, either on top of each other, or next to each other."
   ]
  },
  {
   "cell_type": "markdown",
   "metadata": {
    "colab_type": "text",
    "id": "AnfYd8fNPAew"
   },
   "source": [
    "First, let's create two dataframes, `df1` and `df2`."
   ]
  },
  {
   "cell_type": "code",
   "execution_count": 2,
   "metadata": {
    "colab": {
     "base_uri": "https://localhost:8080/",
     "height": 106
    },
    "colab_type": "code",
    "id": "XrodzwvfPAex",
    "outputId": "02c14412-da08-4dfe-da7e-9bc659c747f2"
   },
   "outputs": [
    {
     "data": {
      "text/html": [
       "<div>\n",
       "<style scoped>\n",
       "    .dataframe tbody tr th:only-of-type {\n",
       "        vertical-align: middle;\n",
       "    }\n",
       "\n",
       "    .dataframe tbody tr th {\n",
       "        vertical-align: top;\n",
       "    }\n",
       "\n",
       "    .dataframe thead th {\n",
       "        text-align: right;\n",
       "    }\n",
       "</style>\n",
       "<table border=\"1\" class=\"dataframe\">\n",
       "  <thead>\n",
       "    <tr style=\"text-align: right;\">\n",
       "      <th></th>\n",
       "      <th>letter</th>\n",
       "      <th>number</th>\n",
       "    </tr>\n",
       "  </thead>\n",
       "  <tbody>\n",
       "    <tr>\n",
       "      <th>0</th>\n",
       "      <td>a</td>\n",
       "      <td>1</td>\n",
       "    </tr>\n",
       "    <tr>\n",
       "      <th>1</th>\n",
       "      <td>b</td>\n",
       "      <td>2</td>\n",
       "    </tr>\n",
       "  </tbody>\n",
       "</table>\n",
       "</div>"
      ],
      "text/plain": [
       "  letter  number\n",
       "0      a       1\n",
       "1      b       2"
      ]
     },
     "execution_count": 2,
     "metadata": {},
     "output_type": "execute_result"
    }
   ],
   "source": [
    "# Create df1\n",
    "df1 = pd.DataFrame([['a', 1], ['b', 2]], columns=['letter', 'number'])\n",
    "df1.head()"
   ]
  },
  {
   "cell_type": "code",
   "execution_count": 3,
   "metadata": {
    "colab": {
     "base_uri": "https://localhost:8080/",
     "height": 106
    },
    "colab_type": "code",
    "id": "w6xuqE3gPAe0",
    "outputId": "49c0e76e-6d07-47be-deb6-9692f0b6b4bb"
   },
   "outputs": [
    {
     "data": {
      "text/html": [
       "<div>\n",
       "<style scoped>\n",
       "    .dataframe tbody tr th:only-of-type {\n",
       "        vertical-align: middle;\n",
       "    }\n",
       "\n",
       "    .dataframe tbody tr th {\n",
       "        vertical-align: top;\n",
       "    }\n",
       "\n",
       "    .dataframe thead th {\n",
       "        text-align: right;\n",
       "    }\n",
       "</style>\n",
       "<table border=\"1\" class=\"dataframe\">\n",
       "  <thead>\n",
       "    <tr style=\"text-align: right;\">\n",
       "      <th></th>\n",
       "      <th>letter</th>\n",
       "      <th>number</th>\n",
       "    </tr>\n",
       "  </thead>\n",
       "  <tbody>\n",
       "    <tr>\n",
       "      <th>0</th>\n",
       "      <td>c</td>\n",
       "      <td>3</td>\n",
       "    </tr>\n",
       "    <tr>\n",
       "      <th>1</th>\n",
       "      <td>d</td>\n",
       "      <td>4</td>\n",
       "    </tr>\n",
       "  </tbody>\n",
       "</table>\n",
       "</div>"
      ],
      "text/plain": [
       "  letter  number\n",
       "0      c       3\n",
       "1      d       4"
      ]
     },
     "execution_count": 3,
     "metadata": {},
     "output_type": "execute_result"
    }
   ],
   "source": [
    "# Create df2\n",
    "df2 = pd.DataFrame([['c', 3], ['d', 4]], columns=['letter', 'number'])\n",
    "df2.head()"
   ]
  },
  {
   "cell_type": "code",
   "execution_count": 4,
   "metadata": {
    "colab": {
     "base_uri": "https://localhost:8080/",
     "height": 166
    },
    "colab_type": "code",
    "id": "ES9HHqwvPAe2",
    "outputId": "32b03a5b-87d9-4b79-97d9-ef61b7016fa7"
   },
   "outputs": [
    {
     "data": {
      "text/html": [
       "<div>\n",
       "<style scoped>\n",
       "    .dataframe tbody tr th:only-of-type {\n",
       "        vertical-align: middle;\n",
       "    }\n",
       "\n",
       "    .dataframe tbody tr th {\n",
       "        vertical-align: top;\n",
       "    }\n",
       "\n",
       "    .dataframe thead th {\n",
       "        text-align: right;\n",
       "    }\n",
       "</style>\n",
       "<table border=\"1\" class=\"dataframe\">\n",
       "  <thead>\n",
       "    <tr style=\"text-align: right;\">\n",
       "      <th></th>\n",
       "      <th>letter</th>\n",
       "      <th>number</th>\n",
       "    </tr>\n",
       "  </thead>\n",
       "  <tbody>\n",
       "    <tr>\n",
       "      <th>0</th>\n",
       "      <td>a</td>\n",
       "      <td>1</td>\n",
       "    </tr>\n",
       "    <tr>\n",
       "      <th>1</th>\n",
       "      <td>b</td>\n",
       "      <td>2</td>\n",
       "    </tr>\n",
       "    <tr>\n",
       "      <th>0</th>\n",
       "      <td>c</td>\n",
       "      <td>3</td>\n",
       "    </tr>\n",
       "    <tr>\n",
       "      <th>1</th>\n",
       "      <td>d</td>\n",
       "      <td>4</td>\n",
       "    </tr>\n",
       "  </tbody>\n",
       "</table>\n",
       "</div>"
      ],
      "text/plain": [
       "  letter  number\n",
       "0      a       1\n",
       "1      b       2\n",
       "0      c       3\n",
       "1      d       4"
      ]
     },
     "execution_count": 4,
     "metadata": {},
     "output_type": "execute_result"
    }
   ],
   "source": [
    "# Next, let's stick the dataframes on top of each other using `concat`.\n",
    "# `axis=0` indicates a row operation. Note that 'axis=0' is the default and doesn't have to be specified.\n",
    "df3=pd.concat([df1, df2], axis=0) \n",
    "df3"
   ]
  },
  {
   "cell_type": "code",
   "execution_count": 5,
   "metadata": {
    "colab": {
     "base_uri": "https://localhost:8080/",
     "height": 106
    },
    "colab_type": "code",
    "id": "6lNU3JPMPAe4",
    "outputId": "af09d101-8806-4e62-e104-14ae02a432c2"
   },
   "outputs": [
    {
     "data": {
      "text/html": [
       "<div>\n",
       "<style scoped>\n",
       "    .dataframe tbody tr th:only-of-type {\n",
       "        vertical-align: middle;\n",
       "    }\n",
       "\n",
       "    .dataframe tbody tr th {\n",
       "        vertical-align: top;\n",
       "    }\n",
       "\n",
       "    .dataframe thead th {\n",
       "        text-align: right;\n",
       "    }\n",
       "</style>\n",
       "<table border=\"1\" class=\"dataframe\">\n",
       "  <thead>\n",
       "    <tr style=\"text-align: right;\">\n",
       "      <th></th>\n",
       "      <th>letter</th>\n",
       "      <th>number</th>\n",
       "      <th>letter</th>\n",
       "      <th>number</th>\n",
       "    </tr>\n",
       "  </thead>\n",
       "  <tbody>\n",
       "    <tr>\n",
       "      <th>0</th>\n",
       "      <td>a</td>\n",
       "      <td>1</td>\n",
       "      <td>c</td>\n",
       "      <td>3</td>\n",
       "    </tr>\n",
       "    <tr>\n",
       "      <th>1</th>\n",
       "      <td>b</td>\n",
       "      <td>2</td>\n",
       "      <td>d</td>\n",
       "      <td>4</td>\n",
       "    </tr>\n",
       "  </tbody>\n",
       "</table>\n",
       "</div>"
      ],
      "text/plain": [
       "  letter  number letter  number\n",
       "0      a       1      c       3\n",
       "1      b       2      d       4"
      ]
     },
     "execution_count": 5,
     "metadata": {},
     "output_type": "execute_result"
    }
   ],
   "source": [
    "# Finally, let's stick the dataframes next to each other using `concat`. \n",
    "# Here, `axis=1` indicates a column operation.\n",
    "df4=pd.concat([df1, df2], axis=1)\n",
    "df4"
   ]
  },
  {
   "cell_type": "markdown",
   "metadata": {
    "colab_type": "text",
    "id": "pXU-4ocHPAe6"
   },
   "source": [
    "### 1.2 Merge"
   ]
  },
  {
   "cell_type": "markdown",
   "metadata": {
    "colab_type": "text",
    "id": "2WbRIzZLPAe7"
   },
   "source": [
    "Merging joins two datasets together based on a common key."
   ]
  },
  {
   "cell_type": "code",
   "execution_count": 6,
   "metadata": {
    "colab": {
     "base_uri": "https://localhost:8080/",
     "height": 195
    },
    "colab_type": "code",
    "id": "2XWEA777QLJG",
    "outputId": "f5fc369f-61cc-44ac-f509-27039fd2f93e"
   },
   "outputs": [
    {
     "data": {
      "text/html": [
       "<div>\n",
       "<style scoped>\n",
       "    .dataframe tbody tr th:only-of-type {\n",
       "        vertical-align: middle;\n",
       "    }\n",
       "\n",
       "    .dataframe tbody tr th {\n",
       "        vertical-align: top;\n",
       "    }\n",
       "\n",
       "    .dataframe thead th {\n",
       "        text-align: right;\n",
       "    }\n",
       "</style>\n",
       "<table border=\"1\" class=\"dataframe\">\n",
       "  <thead>\n",
       "    <tr style=\"text-align: right;\">\n",
       "      <th></th>\n",
       "      <th>Symbol</th>\n",
       "      <th>Name</th>\n",
       "    </tr>\n",
       "  </thead>\n",
       "  <tbody>\n",
       "    <tr>\n",
       "      <th>0</th>\n",
       "      <td>AMZN</td>\n",
       "      <td>Amazon</td>\n",
       "    </tr>\n",
       "    <tr>\n",
       "      <th>1</th>\n",
       "      <td>MSFT</td>\n",
       "      <td>Microsoft</td>\n",
       "    </tr>\n",
       "    <tr>\n",
       "      <th>2</th>\n",
       "      <td>FB</td>\n",
       "      <td>Facebook</td>\n",
       "    </tr>\n",
       "    <tr>\n",
       "      <th>3</th>\n",
       "      <td>AAPL</td>\n",
       "      <td>Apple</td>\n",
       "    </tr>\n",
       "    <tr>\n",
       "      <th>4</th>\n",
       "      <td>GOOGL</td>\n",
       "      <td>Google</td>\n",
       "    </tr>\n",
       "  </tbody>\n",
       "</table>\n",
       "</div>"
      ],
      "text/plain": [
       "  Symbol       Name\n",
       "0   AMZN     Amazon\n",
       "1   MSFT  Microsoft\n",
       "2     FB   Facebook\n",
       "3   AAPL      Apple\n",
       "4  GOOGL     Google"
      ]
     },
     "execution_count": 6,
     "metadata": {},
     "output_type": "execute_result"
    }
   ],
   "source": [
    "# stock names\n",
    "stockname = pd.DataFrame({'Symbol': ['AMZN', 'MSFT', 'FB', 'AAPL', 'GOOGL'], 'Name': ['Amazon', 'Microsoft', 'Facebook', 'Apple', 'Google']})\n",
    "stockname"
   ]
  },
  {
   "cell_type": "code",
   "execution_count": 7,
   "metadata": {
    "colab": {
     "base_uri": "https://localhost:8080/",
     "height": 195
    },
    "colab_type": "code",
    "id": "_-2QemENPAe8",
    "outputId": "9d9efd98-9f7d-43b8-ae4f-ae2c19c8fe55"
   },
   "outputs": [
    {
     "data": {
      "text/html": [
       "<div>\n",
       "<style scoped>\n",
       "    .dataframe tbody tr th:only-of-type {\n",
       "        vertical-align: middle;\n",
       "    }\n",
       "\n",
       "    .dataframe tbody tr th {\n",
       "        vertical-align: top;\n",
       "    }\n",
       "\n",
       "    .dataframe thead th {\n",
       "        text-align: right;\n",
       "    }\n",
       "</style>\n",
       "<table border=\"1\" class=\"dataframe\">\n",
       "  <thead>\n",
       "    <tr style=\"text-align: right;\">\n",
       "      <th></th>\n",
       "      <th>Symbol</th>\n",
       "      <th>OpenPrice</th>\n",
       "    </tr>\n",
       "  </thead>\n",
       "  <tbody>\n",
       "    <tr>\n",
       "      <th>0</th>\n",
       "      <td>AAPL</td>\n",
       "      <td>217.51</td>\n",
       "    </tr>\n",
       "    <tr>\n",
       "      <th>1</th>\n",
       "      <td>MSFT</td>\n",
       "      <td>96.54</td>\n",
       "    </tr>\n",
       "    <tr>\n",
       "      <th>2</th>\n",
       "      <td>GOOGL</td>\n",
       "      <td>501.30</td>\n",
       "    </tr>\n",
       "    <tr>\n",
       "      <th>3</th>\n",
       "      <td>FB</td>\n",
       "      <td>51.45</td>\n",
       "    </tr>\n",
       "    <tr>\n",
       "      <th>4</th>\n",
       "      <td>AMZN</td>\n",
       "      <td>1703.34</td>\n",
       "    </tr>\n",
       "  </tbody>\n",
       "</table>\n",
       "</div>"
      ],
      "text/plain": [
       "  Symbol  OpenPrice\n",
       "0   AAPL     217.51\n",
       "1   MSFT      96.54\n",
       "2  GOOGL     501.30\n",
       "3     FB      51.45\n",
       "4   AMZN    1703.34"
      ]
     },
     "execution_count": 7,
     "metadata": {},
     "output_type": "execute_result"
    }
   ],
   "source": [
    "# stock prices.\n",
    "openprice = pd.DataFrame({'Symbol': ['AAPL', 'MSFT', 'GOOGL', 'FB', 'AMZN'], 'OpenPrice': [217.51, 96.54, 501.3, 51.45, 1703.34]})\n",
    "openprice"
   ]
  },
  {
   "cell_type": "code",
   "execution_count": 8,
   "metadata": {
    "colab": {
     "base_uri": "https://localhost:8080/",
     "height": 195
    },
    "colab_type": "code",
    "id": "S1c_LpJrPAfA",
    "outputId": "fbe6a1ae-02fd-4432-a4ab-e8ba41ea6b01"
   },
   "outputs": [
    {
     "data": {
      "text/html": [
       "<div>\n",
       "<style scoped>\n",
       "    .dataframe tbody tr th:only-of-type {\n",
       "        vertical-align: middle;\n",
       "    }\n",
       "\n",
       "    .dataframe tbody tr th {\n",
       "        vertical-align: top;\n",
       "    }\n",
       "\n",
       "    .dataframe thead th {\n",
       "        text-align: right;\n",
       "    }\n",
       "</style>\n",
       "<table border=\"1\" class=\"dataframe\">\n",
       "  <thead>\n",
       "    <tr style=\"text-align: right;\">\n",
       "      <th></th>\n",
       "      <th>Symbol</th>\n",
       "      <th>OpenPrice</th>\n",
       "      <th>Name</th>\n",
       "    </tr>\n",
       "  </thead>\n",
       "  <tbody>\n",
       "    <tr>\n",
       "      <th>0</th>\n",
       "      <td>AAPL</td>\n",
       "      <td>217.51</td>\n",
       "      <td>Apple</td>\n",
       "    </tr>\n",
       "    <tr>\n",
       "      <th>1</th>\n",
       "      <td>MSFT</td>\n",
       "      <td>96.54</td>\n",
       "      <td>Microsoft</td>\n",
       "    </tr>\n",
       "    <tr>\n",
       "      <th>2</th>\n",
       "      <td>GOOGL</td>\n",
       "      <td>501.30</td>\n",
       "      <td>Google</td>\n",
       "    </tr>\n",
       "    <tr>\n",
       "      <th>3</th>\n",
       "      <td>FB</td>\n",
       "      <td>51.45</td>\n",
       "      <td>Facebook</td>\n",
       "    </tr>\n",
       "    <tr>\n",
       "      <th>4</th>\n",
       "      <td>AMZN</td>\n",
       "      <td>1703.34</td>\n",
       "      <td>Amazon</td>\n",
       "    </tr>\n",
       "  </tbody>\n",
       "</table>\n",
       "</div>"
      ],
      "text/plain": [
       "  Symbol  OpenPrice       Name\n",
       "0   AAPL     217.51      Apple\n",
       "1   MSFT      96.54  Microsoft\n",
       "2  GOOGL     501.30     Google\n",
       "3     FB      51.45   Facebook\n",
       "4   AMZN    1703.34     Amazon"
      ]
     },
     "execution_count": 8,
     "metadata": {},
     "output_type": "execute_result"
    }
   ],
   "source": [
    "# Merge these dataframes.\n",
    "named_stocks=pd.merge(openprice,  stockname)\n",
    "named_stocks"
   ]
  },
  {
   "cell_type": "code",
   "execution_count": 9,
   "metadata": {
    "colab": {
     "base_uri": "https://localhost:8080/",
     "height": 195
    },
    "colab_type": "code",
    "id": "wVqifocPPAfC",
    "outputId": "7dafa980-231b-4a95-c7ab-cda7eda1ca98"
   },
   "outputs": [
    {
     "data": {
      "text/html": [
       "<div>\n",
       "<style scoped>\n",
       "    .dataframe tbody tr th:only-of-type {\n",
       "        vertical-align: middle;\n",
       "    }\n",
       "\n",
       "    .dataframe tbody tr th {\n",
       "        vertical-align: top;\n",
       "    }\n",
       "\n",
       "    .dataframe thead th {\n",
       "        text-align: right;\n",
       "    }\n",
       "</style>\n",
       "<table border=\"1\" class=\"dataframe\">\n",
       "  <thead>\n",
       "    <tr style=\"text-align: right;\">\n",
       "      <th></th>\n",
       "      <th>Symbol</th>\n",
       "      <th>52wkHigh</th>\n",
       "    </tr>\n",
       "  </thead>\n",
       "  <tbody>\n",
       "    <tr>\n",
       "      <th>0</th>\n",
       "      <td>FB</td>\n",
       "      <td>60.79</td>\n",
       "    </tr>\n",
       "    <tr>\n",
       "      <th>1</th>\n",
       "      <td>AMZN</td>\n",
       "      <td>2050.49</td>\n",
       "    </tr>\n",
       "    <tr>\n",
       "      <th>2</th>\n",
       "      <td>AAPL</td>\n",
       "      <td>233.47</td>\n",
       "    </tr>\n",
       "    <tr>\n",
       "      <th>3</th>\n",
       "      <td>MSFT</td>\n",
       "      <td>110.11</td>\n",
       "    </tr>\n",
       "    <tr>\n",
       "      <th>4</th>\n",
       "      <td>NFLX</td>\n",
       "      <td>303.22</td>\n",
       "    </tr>\n",
       "  </tbody>\n",
       "</table>\n",
       "</div>"
      ],
      "text/plain": [
       "  Symbol  52wkHigh\n",
       "0     FB     60.79\n",
       "1   AMZN   2050.49\n",
       "2   AAPL    233.47\n",
       "3   MSFT    110.11\n",
       "4   NFLX    303.22"
      ]
     },
     "execution_count": 9,
     "metadata": {},
     "output_type": "execute_result"
    }
   ],
   "source": [
    "# Create a 3rd dataset of weekly highs\n",
    "wkhigh = pd.DataFrame({'Symbol': ['FB', 'AMZN', 'AAPL', 'MSFT', 'NFLX'], '52wkHigh': [60.79, 2050.49, 233.47, 110.11, 303.22]})\n",
    "wkhigh"
   ]
  },
  {
   "cell_type": "markdown",
   "metadata": {
    "colab_type": "text",
    "id": "tbjIOcdds-IL"
   },
   "source": [
    "The 'on' parameter indicates a specific column that is contained in both dataframes. We use it to look up and copy information from the two df's into a combined df."
   ]
  },
  {
   "cell_type": "code",
   "execution_count": 10,
   "metadata": {
    "colab": {
     "base_uri": "https://localhost:8080/",
     "height": 225
    },
    "colab_type": "code",
    "id": "JQBwUUAoPAfE",
    "outputId": "53ea5d45-1d73-4af2-f9b4-a5ac02bc8dbc"
   },
   "outputs": [
    {
     "data": {
      "text/html": [
       "<div>\n",
       "<style scoped>\n",
       "    .dataframe tbody tr th:only-of-type {\n",
       "        vertical-align: middle;\n",
       "    }\n",
       "\n",
       "    .dataframe tbody tr th {\n",
       "        vertical-align: top;\n",
       "    }\n",
       "\n",
       "    .dataframe thead th {\n",
       "        text-align: right;\n",
       "    }\n",
       "</style>\n",
       "<table border=\"1\" class=\"dataframe\">\n",
       "  <thead>\n",
       "    <tr style=\"text-align: right;\">\n",
       "      <th></th>\n",
       "      <th>Symbol</th>\n",
       "      <th>OpenPrice</th>\n",
       "      <th>Name</th>\n",
       "      <th>52wkHigh</th>\n",
       "    </tr>\n",
       "  </thead>\n",
       "  <tbody>\n",
       "    <tr>\n",
       "      <th>0</th>\n",
       "      <td>AAPL</td>\n",
       "      <td>217.51</td>\n",
       "      <td>Apple</td>\n",
       "      <td>233.47</td>\n",
       "    </tr>\n",
       "    <tr>\n",
       "      <th>1</th>\n",
       "      <td>MSFT</td>\n",
       "      <td>96.54</td>\n",
       "      <td>Microsoft</td>\n",
       "      <td>110.11</td>\n",
       "    </tr>\n",
       "    <tr>\n",
       "      <th>2</th>\n",
       "      <td>GOOGL</td>\n",
       "      <td>501.30</td>\n",
       "      <td>Google</td>\n",
       "      <td>NaN</td>\n",
       "    </tr>\n",
       "    <tr>\n",
       "      <th>3</th>\n",
       "      <td>FB</td>\n",
       "      <td>51.45</td>\n",
       "      <td>Facebook</td>\n",
       "      <td>60.79</td>\n",
       "    </tr>\n",
       "    <tr>\n",
       "      <th>4</th>\n",
       "      <td>AMZN</td>\n",
       "      <td>1703.34</td>\n",
       "      <td>Amazon</td>\n",
       "      <td>2050.49</td>\n",
       "    </tr>\n",
       "    <tr>\n",
       "      <th>5</th>\n",
       "      <td>NFLX</td>\n",
       "      <td>NaN</td>\n",
       "      <td>NaN</td>\n",
       "      <td>303.22</td>\n",
       "    </tr>\n",
       "  </tbody>\n",
       "</table>\n",
       "</div>"
      ],
      "text/plain": [
       "  Symbol  OpenPrice       Name  52wkHigh\n",
       "0   AAPL     217.51      Apple    233.47\n",
       "1   MSFT      96.54  Microsoft    110.11\n",
       "2  GOOGL     501.30     Google       NaN\n",
       "3     FB      51.45   Facebook     60.79\n",
       "4   AMZN    1703.34     Amazon   2050.49\n",
       "5   NFLX        NaN        NaN    303.22"
      ]
     },
     "execution_count": 10,
     "metadata": {},
     "output_type": "execute_result"
    }
   ],
   "source": [
    "# Now merge that with the named stocks.\n",
    "full_stocks=pd.merge(named_stocks, wkhigh, on='Symbol', how='outer')\n",
    "# full_stocks=pd.merge(named_stocks, wkhigh, on='Symbol', how='left')\n",
    "# full_stocks=pd.merge(named_stocks, wkhigh, on='Symbol', how='inner')\n",
    "# full_stocks=pd.merge(named_stocks, wkhigh, on='Symbol', how='right')\n",
    "full_stocks"
   ]
  },
  {
   "cell_type": "markdown",
   "metadata": {
    "colab_type": "text",
    "id": "fIF82OwztnQt"
   },
   "source": [
    "The 'how' parameter indicates what the portion of the selected dataframes to keep after the merge takes place.  \n",
    "https://www.shanelynn.ie/merge-join-dataframes-python-pandas-index-1/"
   ]
  },
  {
   "cell_type": "code",
   "execution_count": 11,
   "metadata": {
    "colab": {
     "base_uri": "https://localhost:8080/",
     "height": 321
    },
    "colab_type": "code",
    "id": "V2phRPbbth7z",
    "outputId": "42f44af4-1c50-42df-e983-69eb7158e712"
   },
   "outputs": [
    {
     "data": {
      "text/html": [
       "<img src=\"https://shanelynnwebsite-mid9n9g1q9y8tt.netdna-ssl.com/wp-content/uploads/2017/03/join-types-merge-names.jpg\" width=\"600\"/>"
      ],
      "text/plain": [
       "<IPython.core.display.Image object>"
      ]
     },
     "metadata": {},
     "output_type": "display_data"
    }
   ],
   "source": [
    "# This is code to display a `.png` inside of a jupyter notebook.\n",
    "from IPython.display import display, Image\n",
    "url = 'https://shanelynnwebsite-mid9n9g1q9y8tt.netdna-ssl.com/wp-content/uploads/2017/03/join-types-merge-names.jpg'\n",
    "venn_diagram = Image(url=url, width=600)\n",
    "display(venn_diagram)"
   ]
  },
  {
   "cell_type": "markdown",
   "metadata": {
    "colab_type": "text",
    "id": "dDfzKXJdwApV"
   },
   "source": [
    "### 1.3 Reshape: `melt` and `pivot_table`\n",
    "\n"
   ]
  },
  {
   "cell_type": "markdown",
   "metadata": {
    "colab_type": "text",
    "id": "4stCppWhwIx0"
   },
   "source": [
    "Why reshape data?\n",
    "\n",
    "**Some libraries prefer data in different formats**\n",
    "\n",
    "\n",
    "\n",
    "> For example, the Seaborn data visualization library prefers data in \"Tidy\" format often (but not always).  \n",
    "[Seaborn will be most powerful when your datasets have a particular organization.](https://seaborn.pydata.org/introduction.html#organizing-datasets)    \n",
    "This format ia alternately called “long-form” or “tidy” data and is described in detail by Hadley Wickham. The rules can be simply stated:\n",
    "\n",
    "> - Each variable is a column\n",
    "- Each observation is a row\n",
    "\n",
    "> A helpful mindset for determining whether your data are tidy is to think backwards from the plot you want to draw. From this perspective, a “variable” is something that will be assigned a role in the plot.\"\n",
    "\n",
    "Data science is often about putting square pegs in round holes. Here's an inspiring [video clip from _Apollo 13_](https://www.youtube.com/watch?v=ry55--J4_VQ): “Invent a way to put a square peg in a round hole.” It's a good metaphor for data wrangling!"
   ]
  },
  {
   "cell_type": "markdown",
   "metadata": {
    "colab_type": "text",
    "id": "79KITszBwXp7"
   },
   "source": [
    "**Hadley Wickham: 'wide' format vs. 'tidy' format**  \n",
    "From his paper, [Tidy Data](http://vita.had.co.nz/papers/tidy-data.html)"
   ]
  },
  {
   "cell_type": "code",
   "execution_count": 12,
   "metadata": {
    "colab": {},
    "colab_type": "code",
    "id": "Jna5sk5FwYHr"
   },
   "outputs": [],
   "source": [
    "# Let's create a simple table.\n",
    "\n",
    "table1 = pd.DataFrame(\n",
    "    [[np.nan, 2],\n",
    "     [16,    11], \n",
    "     [3,      1]],\n",
    "    index=['John Smith', 'Jane Doe', 'Mary Johnson'], \n",
    "    columns=['treatmenta', 'treatmentb'])"
   ]
  },
  {
   "cell_type": "markdown",
   "metadata": {
    "colab_type": "text",
    "id": "eWe5rpI9wdvT"
   },
   "source": [
    "\"Table 1 provides some data about an imaginary experiment in a format commonly seen in the wild.   \n",
    "The table has two columns and three rows, and both rows and columns are labelled.\""
   ]
  },
  {
   "cell_type": "code",
   "execution_count": 13,
   "metadata": {
    "colab": {
     "base_uri": "https://localhost:8080/",
     "height": 136
    },
    "colab_type": "code",
    "id": "2LecRwp5PAfM",
    "outputId": "f5fd751d-7251-4f40-861e-95f58d995344"
   },
   "outputs": [
    {
     "data": {
      "text/html": [
       "<div>\n",
       "<style scoped>\n",
       "    .dataframe tbody tr th:only-of-type {\n",
       "        vertical-align: middle;\n",
       "    }\n",
       "\n",
       "    .dataframe tbody tr th {\n",
       "        vertical-align: top;\n",
       "    }\n",
       "\n",
       "    .dataframe thead th {\n",
       "        text-align: right;\n",
       "    }\n",
       "</style>\n",
       "<table border=\"1\" class=\"dataframe\">\n",
       "  <thead>\n",
       "    <tr style=\"text-align: right;\">\n",
       "      <th></th>\n",
       "      <th>treatmenta</th>\n",
       "      <th>treatmentb</th>\n",
       "    </tr>\n",
       "  </thead>\n",
       "  <tbody>\n",
       "    <tr>\n",
       "      <th>John Smith</th>\n",
       "      <td>NaN</td>\n",
       "      <td>2</td>\n",
       "    </tr>\n",
       "    <tr>\n",
       "      <th>Jane Doe</th>\n",
       "      <td>16.0</td>\n",
       "      <td>11</td>\n",
       "    </tr>\n",
       "    <tr>\n",
       "      <th>Mary Johnson</th>\n",
       "      <td>3.0</td>\n",
       "      <td>1</td>\n",
       "    </tr>\n",
       "  </tbody>\n",
       "</table>\n",
       "</div>"
      ],
      "text/plain": [
       "              treatmenta  treatmentb\n",
       "John Smith           NaN           2\n",
       "Jane Doe            16.0          11\n",
       "Mary Johnson         3.0           1"
      ]
     },
     "execution_count": 13,
     "metadata": {},
     "output_type": "execute_result"
    }
   ],
   "source": [
    "# This is an example of 'wide' format:\n",
    "table1"
   ]
  },
  {
   "cell_type": "markdown",
   "metadata": {
    "colab_type": "text",
    "id": "SaEcDmZhwmon"
   },
   "source": [
    "\"There are many ways to structure the same underlying data.   \n",
    "Table 2 shows the same data as Table 1, but the rows and columns have been transposed. The data is the same, but the layout is different.\""
   ]
  },
  {
   "cell_type": "code",
   "execution_count": 14,
   "metadata": {
    "colab": {
     "base_uri": "https://localhost:8080/",
     "height": 106
    },
    "colab_type": "code",
    "id": "SwDVoCj5woAn",
    "outputId": "c7212520-79f4-4f50-f3dc-a45a263ea62a"
   },
   "outputs": [
    {
     "data": {
      "text/html": [
       "<div>\n",
       "<style scoped>\n",
       "    .dataframe tbody tr th:only-of-type {\n",
       "        vertical-align: middle;\n",
       "    }\n",
       "\n",
       "    .dataframe tbody tr th {\n",
       "        vertical-align: top;\n",
       "    }\n",
       "\n",
       "    .dataframe thead th {\n",
       "        text-align: right;\n",
       "    }\n",
       "</style>\n",
       "<table border=\"1\" class=\"dataframe\">\n",
       "  <thead>\n",
       "    <tr style=\"text-align: right;\">\n",
       "      <th></th>\n",
       "      <th>John Smith</th>\n",
       "      <th>Jane Doe</th>\n",
       "      <th>Mary Johnson</th>\n",
       "    </tr>\n",
       "  </thead>\n",
       "  <tbody>\n",
       "    <tr>\n",
       "      <th>treatmenta</th>\n",
       "      <td>NaN</td>\n",
       "      <td>16.0</td>\n",
       "      <td>3.0</td>\n",
       "    </tr>\n",
       "    <tr>\n",
       "      <th>treatmentb</th>\n",
       "      <td>2.0</td>\n",
       "      <td>11.0</td>\n",
       "      <td>1.0</td>\n",
       "    </tr>\n",
       "  </tbody>\n",
       "</table>\n",
       "</div>"
      ],
      "text/plain": [
       "            John Smith  Jane Doe  Mary Johnson\n",
       "treatmenta         NaN      16.0           3.0\n",
       "treatmentb         2.0      11.0           1.0"
      ]
     },
     "execution_count": 14,
     "metadata": {},
     "output_type": "execute_result"
    }
   ],
   "source": [
    "# Exactly the same information can be displayed by transposing the table. \n",
    "# (this is also another form of 'wide' format)\n",
    "table2 = table1.T\n",
    "table2"
   ]
  },
  {
   "cell_type": "markdown",
   "metadata": {
    "colab_type": "text",
    "id": "k3ratDNbwsyN"
   },
   "source": [
    "Table 3 is an example of 'tidy' format. It reorganises Table 1  to make the values, variables and obserations more clear.\n",
    "\n",
    "Table 3 is the 'tidy' version of Table 1. Each row represents an observation, the result of one treatment on one person, and each column is a variable.\"\n",
    "\n",
    "| name         | trt | result |\n",
    "|--------------|-----|--------|\n",
    "| John Smith   | a   | -      |\n",
    "| Jane Doe     | a   | 16     |\n",
    "| Mary Johnson | a   | 3      |\n",
    "| John Smith   | b   | 2      |\n",
    "| Jane Doe     | b   | 11     |\n",
    "| Mary Johnson | b   | 1      |"
   ]
  },
  {
   "cell_type": "markdown",
   "metadata": {
    "colab_type": "text",
    "id": "WsvD1I3TwwnI"
   },
   "source": [
    "**Table 1 --> Tidy**\n",
    "\n",
    "We can use the pandas `melt` function to reshape Table 1 into Tidy format."
   ]
  },
  {
   "cell_type": "code",
   "execution_count": 15,
   "metadata": {
    "colab": {
     "base_uri": "https://localhost:8080/",
     "height": 34
    },
    "colab_type": "code",
    "id": "S48tKmC46veF",
    "outputId": "e6417c08-82a2-462b-e692-1c60afb42a17"
   },
   "outputs": [
    {
     "data": {
      "text/plain": [
       "['treatmenta', 'treatmentb']"
      ]
     },
     "execution_count": 15,
     "metadata": {},
     "output_type": "execute_result"
    }
   ],
   "source": [
    "# First, get the column names as a list.\n",
    "table1.columns.tolist()"
   ]
  },
  {
   "cell_type": "code",
   "execution_count": 16,
   "metadata": {
    "colab": {
     "base_uri": "https://localhost:8080/",
     "height": 34
    },
    "colab_type": "code",
    "id": "eKZW1b-2z6Eq",
    "outputId": "ec0be94a-d3d0-403b-8ff2-237de41fe078"
   },
   "outputs": [
    {
     "data": {
      "text/plain": [
       "['John Smith', 'Jane Doe', 'Mary Johnson']"
      ]
     },
     "execution_count": 16,
     "metadata": {},
     "output_type": "execute_result"
    }
   ],
   "source": [
    "# Now get the index values as another list.\n",
    "table1.index.tolist()"
   ]
  },
  {
   "cell_type": "code",
   "execution_count": 17,
   "metadata": {
    "colab": {
     "base_uri": "https://localhost:8080/",
     "height": 136
    },
    "colab_type": "code",
    "id": "QOG14s6Iz9-F",
    "outputId": "8426b500-f0d4-4aa1-e218-f28979fcce97"
   },
   "outputs": [
    {
     "data": {
      "text/html": [
       "<div>\n",
       "<style scoped>\n",
       "    .dataframe tbody tr th:only-of-type {\n",
       "        vertical-align: middle;\n",
       "    }\n",
       "\n",
       "    .dataframe tbody tr th {\n",
       "        vertical-align: top;\n",
       "    }\n",
       "\n",
       "    .dataframe thead th {\n",
       "        text-align: right;\n",
       "    }\n",
       "</style>\n",
       "<table border=\"1\" class=\"dataframe\">\n",
       "  <thead>\n",
       "    <tr style=\"text-align: right;\">\n",
       "      <th></th>\n",
       "      <th>index</th>\n",
       "      <th>treatmenta</th>\n",
       "      <th>treatmentb</th>\n",
       "    </tr>\n",
       "  </thead>\n",
       "  <tbody>\n",
       "    <tr>\n",
       "      <th>0</th>\n",
       "      <td>John Smith</td>\n",
       "      <td>NaN</td>\n",
       "      <td>2</td>\n",
       "    </tr>\n",
       "    <tr>\n",
       "      <th>1</th>\n",
       "      <td>Jane Doe</td>\n",
       "      <td>16.0</td>\n",
       "      <td>11</td>\n",
       "    </tr>\n",
       "    <tr>\n",
       "      <th>2</th>\n",
       "      <td>Mary Johnson</td>\n",
       "      <td>3.0</td>\n",
       "      <td>1</td>\n",
       "    </tr>\n",
       "  </tbody>\n",
       "</table>\n",
       "</div>"
      ],
      "text/plain": [
       "          index  treatmenta  treatmentb\n",
       "0    John Smith         NaN           2\n",
       "1      Jane Doe        16.0          11\n",
       "2  Mary Johnson         3.0           1"
      ]
     },
     "execution_count": 17,
     "metadata": {},
     "output_type": "execute_result"
    }
   ],
   "source": [
    "# For table 1, convert the index into a column using the `reset_index` method.\n",
    "table1 = table1.reset_index()\n",
    "table1"
   ]
  },
  {
   "cell_type": "code",
   "execution_count": 18,
   "metadata": {
    "colab": {
     "base_uri": "https://localhost:8080/",
     "height": 225
    },
    "colab_type": "code",
    "id": "6X8LgIN70NDJ",
    "outputId": "05a7fe88-6046-472e-d380-553c50db31ad"
   },
   "outputs": [
    {
     "data": {
      "text/html": [
       "<div>\n",
       "<style scoped>\n",
       "    .dataframe tbody tr th:only-of-type {\n",
       "        vertical-align: middle;\n",
       "    }\n",
       "\n",
       "    .dataframe tbody tr th {\n",
       "        vertical-align: top;\n",
       "    }\n",
       "\n",
       "    .dataframe thead th {\n",
       "        text-align: right;\n",
       "    }\n",
       "</style>\n",
       "<table border=\"1\" class=\"dataframe\">\n",
       "  <thead>\n",
       "    <tr style=\"text-align: right;\">\n",
       "      <th></th>\n",
       "      <th>index</th>\n",
       "      <th>variable</th>\n",
       "      <th>value</th>\n",
       "    </tr>\n",
       "  </thead>\n",
       "  <tbody>\n",
       "    <tr>\n",
       "      <th>0</th>\n",
       "      <td>John Smith</td>\n",
       "      <td>treatmenta</td>\n",
       "      <td>NaN</td>\n",
       "    </tr>\n",
       "    <tr>\n",
       "      <th>1</th>\n",
       "      <td>Jane Doe</td>\n",
       "      <td>treatmenta</td>\n",
       "      <td>16.0</td>\n",
       "    </tr>\n",
       "    <tr>\n",
       "      <th>2</th>\n",
       "      <td>Mary Johnson</td>\n",
       "      <td>treatmenta</td>\n",
       "      <td>3.0</td>\n",
       "    </tr>\n",
       "    <tr>\n",
       "      <th>3</th>\n",
       "      <td>John Smith</td>\n",
       "      <td>treatmentb</td>\n",
       "      <td>2.0</td>\n",
       "    </tr>\n",
       "    <tr>\n",
       "      <th>4</th>\n",
       "      <td>Jane Doe</td>\n",
       "      <td>treatmentb</td>\n",
       "      <td>11.0</td>\n",
       "    </tr>\n",
       "    <tr>\n",
       "      <th>5</th>\n",
       "      <td>Mary Johnson</td>\n",
       "      <td>treatmentb</td>\n",
       "      <td>1.0</td>\n",
       "    </tr>\n",
       "  </tbody>\n",
       "</table>\n",
       "</div>"
      ],
      "text/plain": [
       "          index    variable  value\n",
       "0    John Smith  treatmenta    NaN\n",
       "1      Jane Doe  treatmenta   16.0\n",
       "2  Mary Johnson  treatmenta    3.0\n",
       "3    John Smith  treatmentb    2.0\n",
       "4      Jane Doe  treatmentb   11.0\n",
       "5  Mary Johnson  treatmentb    1.0"
      ]
     },
     "execution_count": 18,
     "metadata": {},
     "output_type": "execute_result"
    }
   ],
   "source": [
    "# Convert the table from 'wide' to 'tidy' format using the `melt` method.\n",
    "tidy = table1.melt(id_vars='index', value_vars=['treatmenta', 'treatmentb'])\n",
    "tidy"
   ]
  },
  {
   "cell_type": "code",
   "execution_count": 19,
   "metadata": {
    "colab": {
     "base_uri": "https://localhost:8080/",
     "height": 225
    },
    "colab_type": "code",
    "id": "Et0Q6PMe0qbH",
    "outputId": "a3b07501-bed8-4927-f084-2e2a8fdfc76a"
   },
   "outputs": [
    {
     "data": {
      "text/html": [
       "<div>\n",
       "<style scoped>\n",
       "    .dataframe tbody tr th:only-of-type {\n",
       "        vertical-align: middle;\n",
       "    }\n",
       "\n",
       "    .dataframe tbody tr th {\n",
       "        vertical-align: top;\n",
       "    }\n",
       "\n",
       "    .dataframe thead th {\n",
       "        text-align: right;\n",
       "    }\n",
       "</style>\n",
       "<table border=\"1\" class=\"dataframe\">\n",
       "  <thead>\n",
       "    <tr style=\"text-align: right;\">\n",
       "      <th></th>\n",
       "      <th>name</th>\n",
       "      <th>trt</th>\n",
       "      <th>result</th>\n",
       "    </tr>\n",
       "  </thead>\n",
       "  <tbody>\n",
       "    <tr>\n",
       "      <th>0</th>\n",
       "      <td>John Smith</td>\n",
       "      <td>a</td>\n",
       "      <td>NaN</td>\n",
       "    </tr>\n",
       "    <tr>\n",
       "      <th>1</th>\n",
       "      <td>Jane Doe</td>\n",
       "      <td>a</td>\n",
       "      <td>16.0</td>\n",
       "    </tr>\n",
       "    <tr>\n",
       "      <th>2</th>\n",
       "      <td>Mary Johnson</td>\n",
       "      <td>a</td>\n",
       "      <td>3.0</td>\n",
       "    </tr>\n",
       "    <tr>\n",
       "      <th>3</th>\n",
       "      <td>John Smith</td>\n",
       "      <td>b</td>\n",
       "      <td>2.0</td>\n",
       "    </tr>\n",
       "    <tr>\n",
       "      <th>4</th>\n",
       "      <td>Jane Doe</td>\n",
       "      <td>b</td>\n",
       "      <td>11.0</td>\n",
       "    </tr>\n",
       "    <tr>\n",
       "      <th>5</th>\n",
       "      <td>Mary Johnson</td>\n",
       "      <td>b</td>\n",
       "      <td>1.0</td>\n",
       "    </tr>\n",
       "  </tbody>\n",
       "</table>\n",
       "</div>"
      ],
      "text/plain": [
       "           name trt  result\n",
       "0    John Smith   a     NaN\n",
       "1      Jane Doe   a    16.0\n",
       "2  Mary Johnson   a     3.0\n",
       "3    John Smith   b     2.0\n",
       "4      Jane Doe   b    11.0\n",
       "5  Mary Johnson   b     1.0"
      ]
     },
     "execution_count": 19,
     "metadata": {},
     "output_type": "execute_result"
    }
   ],
   "source": [
    "# rename the columns\n",
    "tidy = tidy.rename(columns={\n",
    "    'index': 'name', \n",
    "    'variable': 'trt', \n",
    "    'value': 'result'\n",
    "})\n",
    "# shorten the `trt` values\n",
    "tidy.trt = tidy.trt.str.replace('treatment', '')\n",
    "tidy"
   ]
  },
  {
   "cell_type": "markdown",
   "metadata": {
    "colab_type": "text",
    "id": "Ck15sXaJxPrd"
   },
   "source": [
    "**Table 2 --> Tidy**"
   ]
  },
  {
   "cell_type": "code",
   "execution_count": 20,
   "metadata": {
    "colab": {},
    "colab_type": "code",
    "id": "k2Qn94RIxQhV"
   },
   "outputs": [
    {
     "data": {
      "text/html": [
       "<div>\n",
       "<style scoped>\n",
       "    .dataframe tbody tr th:only-of-type {\n",
       "        vertical-align: middle;\n",
       "    }\n",
       "\n",
       "    .dataframe tbody tr th {\n",
       "        vertical-align: top;\n",
       "    }\n",
       "\n",
       "    .dataframe thead th {\n",
       "        text-align: right;\n",
       "    }\n",
       "</style>\n",
       "<table border=\"1\" class=\"dataframe\">\n",
       "  <thead>\n",
       "    <tr style=\"text-align: right;\">\n",
       "      <th></th>\n",
       "      <th>treatmenta</th>\n",
       "      <th>treatmentb</th>\n",
       "    </tr>\n",
       "  </thead>\n",
       "  <tbody>\n",
       "    <tr>\n",
       "      <th>John Smith</th>\n",
       "      <td>NaN</td>\n",
       "      <td>2.0</td>\n",
       "    </tr>\n",
       "    <tr>\n",
       "      <th>Jane Doe</th>\n",
       "      <td>16.0</td>\n",
       "      <td>11.0</td>\n",
       "    </tr>\n",
       "    <tr>\n",
       "      <th>Mary Johnson</th>\n",
       "      <td>3.0</td>\n",
       "      <td>1.0</td>\n",
       "    </tr>\n",
       "  </tbody>\n",
       "</table>\n",
       "</div>"
      ],
      "text/plain": [
       "              treatmenta  treatmentb\n",
       "John Smith           NaN         2.0\n",
       "Jane Doe            16.0        11.0\n",
       "Mary Johnson         3.0         1.0"
      ]
     },
     "execution_count": 20,
     "metadata": {},
     "output_type": "execute_result"
    }
   ],
   "source": [
    "# first you can transpose it\n",
    "table2.T"
   ]
  },
  {
   "cell_type": "code",
   "execution_count": 21,
   "metadata": {},
   "outputs": [
    {
     "data": {
      "text/html": [
       "<div>\n",
       "<style scoped>\n",
       "    .dataframe tbody tr th:only-of-type {\n",
       "        vertical-align: middle;\n",
       "    }\n",
       "\n",
       "    .dataframe tbody tr th {\n",
       "        vertical-align: top;\n",
       "    }\n",
       "\n",
       "    .dataframe thead th {\n",
       "        text-align: right;\n",
       "    }\n",
       "</style>\n",
       "<table border=\"1\" class=\"dataframe\">\n",
       "  <thead>\n",
       "    <tr style=\"text-align: right;\">\n",
       "      <th></th>\n",
       "      <th>name</th>\n",
       "      <th>trt</th>\n",
       "      <th>result</th>\n",
       "    </tr>\n",
       "  </thead>\n",
       "  <tbody>\n",
       "    <tr>\n",
       "      <th>0</th>\n",
       "      <td>John Smith</td>\n",
       "      <td>treatmenta</td>\n",
       "      <td>NaN</td>\n",
       "    </tr>\n",
       "    <tr>\n",
       "      <th>1</th>\n",
       "      <td>Jane Doe</td>\n",
       "      <td>treatmenta</td>\n",
       "      <td>16.0</td>\n",
       "    </tr>\n",
       "    <tr>\n",
       "      <th>2</th>\n",
       "      <td>Mary Johnson</td>\n",
       "      <td>treatmenta</td>\n",
       "      <td>3.0</td>\n",
       "    </tr>\n",
       "    <tr>\n",
       "      <th>3</th>\n",
       "      <td>John Smith</td>\n",
       "      <td>treatmentb</td>\n",
       "      <td>2.0</td>\n",
       "    </tr>\n",
       "    <tr>\n",
       "      <th>4</th>\n",
       "      <td>Jane Doe</td>\n",
       "      <td>treatmentb</td>\n",
       "      <td>11.0</td>\n",
       "    </tr>\n",
       "    <tr>\n",
       "      <th>5</th>\n",
       "      <td>Mary Johnson</td>\n",
       "      <td>treatmentb</td>\n",
       "      <td>1.0</td>\n",
       "    </tr>\n",
       "  </tbody>\n",
       "</table>\n",
       "</div>"
      ],
      "text/plain": [
       "           name         trt  result\n",
       "0    John Smith  treatmenta     NaN\n",
       "1      Jane Doe  treatmenta    16.0\n",
       "2  Mary Johnson  treatmenta     3.0\n",
       "3    John Smith  treatmentb     2.0\n",
       "4      Jane Doe  treatmentb    11.0\n",
       "5  Mary Johnson  treatmentb     1.0"
      ]
     },
     "execution_count": 21,
     "metadata": {},
     "output_type": "execute_result"
    }
   ],
   "source": [
    "# now use \"melt\" and give it some new column names\n",
    "tidy2 = table2.T.reset_index().melt(id_vars='index').rename(columns= {\n",
    "    'index': 'name', \n",
    "    'variable': 'trt', \n",
    "    'value': 'result'\n",
    "})\n",
    "tidy2"
   ]
  },
  {
   "cell_type": "code",
   "execution_count": 22,
   "metadata": {},
   "outputs": [
    {
     "data": {
      "text/html": [
       "<div>\n",
       "<style scoped>\n",
       "    .dataframe tbody tr th:only-of-type {\n",
       "        vertical-align: middle;\n",
       "    }\n",
       "\n",
       "    .dataframe tbody tr th {\n",
       "        vertical-align: top;\n",
       "    }\n",
       "\n",
       "    .dataframe thead th {\n",
       "        text-align: right;\n",
       "    }\n",
       "</style>\n",
       "<table border=\"1\" class=\"dataframe\">\n",
       "  <thead>\n",
       "    <tr style=\"text-align: right;\">\n",
       "      <th></th>\n",
       "      <th>trt</th>\n",
       "      <th>result</th>\n",
       "    </tr>\n",
       "    <tr>\n",
       "      <th>name</th>\n",
       "      <th></th>\n",
       "      <th></th>\n",
       "    </tr>\n",
       "  </thead>\n",
       "  <tbody>\n",
       "    <tr>\n",
       "      <th>John Smith</th>\n",
       "      <td>a</td>\n",
       "      <td>NaN</td>\n",
       "    </tr>\n",
       "    <tr>\n",
       "      <th>Jane Doe</th>\n",
       "      <td>a</td>\n",
       "      <td>16.0</td>\n",
       "    </tr>\n",
       "    <tr>\n",
       "      <th>Mary Johnson</th>\n",
       "      <td>a</td>\n",
       "      <td>3.0</td>\n",
       "    </tr>\n",
       "    <tr>\n",
       "      <th>John Smith</th>\n",
       "      <td>b</td>\n",
       "      <td>2.0</td>\n",
       "    </tr>\n",
       "    <tr>\n",
       "      <th>Jane Doe</th>\n",
       "      <td>b</td>\n",
       "      <td>11.0</td>\n",
       "    </tr>\n",
       "    <tr>\n",
       "      <th>Mary Johnson</th>\n",
       "      <td>b</td>\n",
       "      <td>1.0</td>\n",
       "    </tr>\n",
       "  </tbody>\n",
       "</table>\n",
       "</div>"
      ],
      "text/plain": [
       "             trt  result\n",
       "name                    \n",
       "John Smith     a     NaN\n",
       "Jane Doe       a    16.0\n",
       "Mary Johnson   a     3.0\n",
       "John Smith     b     2.0\n",
       "Jane Doe       b    11.0\n",
       "Mary Johnson   b     1.0"
      ]
     },
     "execution_count": 22,
     "metadata": {},
     "output_type": "execute_result"
    }
   ],
   "source": [
    "# now clean up the column names etc.\n",
    "tidy2['trt'] = tidy2['trt'].str.replace('treatment', '')\n",
    "tidy2 = tidy2.set_index('name')\n",
    "tidy2"
   ]
  },
  {
   "cell_type": "markdown",
   "metadata": {
    "colab_type": "text",
    "id": "As0W7PWLxea3"
   },
   "source": [
    "**Tidy --> Table 1**\n",
    "\n",
    "The `pivot_table` function is the inverse of `melt`."
   ]
  },
  {
   "cell_type": "code",
   "execution_count": 23,
   "metadata": {
    "colab": {
     "base_uri": "https://localhost:8080/",
     "height": 166
    },
    "colab_type": "code",
    "id": "CdZZiLYoxfJC",
    "outputId": "70663b42-90de-43bb-a509-e16db31cffbb"
   },
   "outputs": [
    {
     "data": {
      "text/html": [
       "<div>\n",
       "<style scoped>\n",
       "    .dataframe tbody tr th:only-of-type {\n",
       "        vertical-align: middle;\n",
       "    }\n",
       "\n",
       "    .dataframe tbody tr th {\n",
       "        vertical-align: top;\n",
       "    }\n",
       "\n",
       "    .dataframe thead th {\n",
       "        text-align: right;\n",
       "    }\n",
       "</style>\n",
       "<table border=\"1\" class=\"dataframe\">\n",
       "  <thead>\n",
       "    <tr style=\"text-align: right;\">\n",
       "      <th>trt</th>\n",
       "      <th>a</th>\n",
       "      <th>b</th>\n",
       "    </tr>\n",
       "    <tr>\n",
       "      <th>name</th>\n",
       "      <th></th>\n",
       "      <th></th>\n",
       "    </tr>\n",
       "  </thead>\n",
       "  <tbody>\n",
       "    <tr>\n",
       "      <th>Jane Doe</th>\n",
       "      <td>16.0</td>\n",
       "      <td>11.0</td>\n",
       "    </tr>\n",
       "    <tr>\n",
       "      <th>John Smith</th>\n",
       "      <td>NaN</td>\n",
       "      <td>2.0</td>\n",
       "    </tr>\n",
       "    <tr>\n",
       "      <th>Mary Johnson</th>\n",
       "      <td>3.0</td>\n",
       "      <td>1.0</td>\n",
       "    </tr>\n",
       "  </tbody>\n",
       "</table>\n",
       "</div>"
      ],
      "text/plain": [
       "trt              a     b\n",
       "name                    \n",
       "Jane Doe      16.0  11.0\n",
       "John Smith     NaN   2.0\n",
       "Mary Johnson   3.0   1.0"
      ]
     },
     "execution_count": 23,
     "metadata": {},
     "output_type": "execute_result"
    }
   ],
   "source": [
    "# Let's do it all in reverse.\n",
    "wide = tidy.pivot_table(index='name', columns='trt', values='result')\n",
    "wide"
   ]
  },
  {
   "cell_type": "markdown",
   "metadata": {
    "colab_type": "text",
    "id": "3GeAKoSZxoPS"
   },
   "source": [
    "**Tidy --> Table 2**"
   ]
  },
  {
   "cell_type": "code",
   "execution_count": 24,
   "metadata": {
    "colab": {},
    "colab_type": "code",
    "id": "W2jjciN2xk9r"
   },
   "outputs": [
    {
     "data": {
      "text/html": [
       "<div>\n",
       "<style scoped>\n",
       "    .dataframe tbody tr th:only-of-type {\n",
       "        vertical-align: middle;\n",
       "    }\n",
       "\n",
       "    .dataframe tbody tr th {\n",
       "        vertical-align: top;\n",
       "    }\n",
       "\n",
       "    .dataframe thead th {\n",
       "        text-align: right;\n",
       "    }\n",
       "</style>\n",
       "<table border=\"1\" class=\"dataframe\">\n",
       "  <thead>\n",
       "    <tr style=\"text-align: right;\">\n",
       "      <th>name</th>\n",
       "      <th>Jane Doe</th>\n",
       "      <th>John Smith</th>\n",
       "      <th>Mary Johnson</th>\n",
       "    </tr>\n",
       "    <tr>\n",
       "      <th>trt</th>\n",
       "      <th></th>\n",
       "      <th></th>\n",
       "      <th></th>\n",
       "    </tr>\n",
       "  </thead>\n",
       "  <tbody>\n",
       "    <tr>\n",
       "      <th>a</th>\n",
       "      <td>16.0</td>\n",
       "      <td>NaN</td>\n",
       "      <td>3.0</td>\n",
       "    </tr>\n",
       "    <tr>\n",
       "      <th>b</th>\n",
       "      <td>11.0</td>\n",
       "      <td>2.0</td>\n",
       "      <td>1.0</td>\n",
       "    </tr>\n",
       "  </tbody>\n",
       "</table>\n",
       "</div>"
      ],
      "text/plain": [
       "name  Jane Doe  John Smith  Mary Johnson\n",
       "trt                                     \n",
       "a         16.0         NaN           3.0\n",
       "b         11.0         2.0           1.0"
      ]
     },
     "execution_count": 24,
     "metadata": {},
     "output_type": "execute_result"
    }
   ],
   "source": [
    "# Do the same thing you did to table 1, but then transpose it when you're finished\n",
    "tidy2.pivot_table(index='name', columns='trt', values='result').T"
   ]
  },
  {
   "cell_type": "markdown",
   "metadata": {
    "colab_type": "text",
    "id": "jr0jQy6Oxqi7"
   },
   "source": [
    "**Seaborn example**\n",
    "\n",
    "The rules can be simply stated:\n",
    "\n",
    "- Each variable is a column\n",
    "- Each observation is a row\n",
    "\n",
    "A helpful mindset for determining whether your data are tidy is to think backwards from the plot you want to draw. From this perspective, a “variable” is something that will be assigned a role in the plot.\""
   ]
  },
  {
   "cell_type": "code",
   "execution_count": 25,
   "metadata": {
    "colab": {
     "base_uri": "https://localhost:8080/",
     "height": 153
    },
    "colab_type": "code",
    "id": "kWo3FIP9xuKo",
    "outputId": "664c09bf-dccb-4ec7-a9a2-6cab4af82506"
   },
   "outputs": [
    {
     "data": {
      "image/png": "[encoded data removed]",
      "text/plain": [
       "<Figure size 432x144 with 3 Axes>"
      ]
     },
     "metadata": {
      "needs_background": "light"
     },
     "output_type": "display_data"
    }
   ],
   "source": [
    "sns.catplot(x='trt', y='result', col='name', \n",
    "            kind='bar', data=tidy, height=2);"
   ]
  },
  {
   "cell_type": "markdown",
   "metadata": {
    "colab_type": "text",
    "id": "7PdjonFgPAfj"
   },
   "source": [
    "## Part 2: More complex examples "
   ]
  },
  {
   "cell_type": "markdown",
   "metadata": {
    "colab_type": "text",
    "id": "CHDWwgErPAfj"
   },
   "source": [
    "### 2.1 Concatenating time-series datasets from Chicago"
   ]
  },
  {
   "cell_type": "code",
   "execution_count": 26,
   "metadata": {
    "colab": {},
    "colab_type": "code",
    "id": "eXc90I3tPAfk"
   },
   "outputs": [],
   "source": [
    "# Here's some data about Chicago bikesharing.\n",
    "source_path='https://raw.githubusercontent.com/austinlasseter/pandas_visualization/master/data/Divvy_Trips_dataset/'\n",
    "q1_path=source_path + 'Divvy_Trips_2015-Q1.csv'\n",
    "q2_path=source_path + 'Divvy_Trips_2015-Q2.csv'\n",
    "q3_path=source_path + 'Divvy_Trips_2015-Q3.csv'\n",
    "q4_path=source_path + 'Divvy_Trips_2015-Q4.csv'"
   ]
  },
  {
   "cell_type": "code",
   "execution_count": 27,
   "metadata": {
    "colab": {
     "base_uri": "https://localhost:8080/",
     "height": 333
    },
    "colab_type": "code",
    "id": "5I0WnUhBPAfm",
    "outputId": "9bb8f230-3962-47a0-fa73-65179f9a0821"
   },
   "outputs": [
    {
     "name": "stdout",
     "output_type": "stream",
     "text": [
      "(1000, 12)\n"
     ]
    },
    {
     "data": {
      "text/html": [
       "<div>\n",
       "<style scoped>\n",
       "    .dataframe tbody tr th:only-of-type {\n",
       "        vertical-align: middle;\n",
       "    }\n",
       "\n",
       "    .dataframe tbody tr th {\n",
       "        vertical-align: top;\n",
       "    }\n",
       "\n",
       "    .dataframe thead th {\n",
       "        text-align: right;\n",
       "    }\n",
       "</style>\n",
       "<table border=\"1\" class=\"dataframe\">\n",
       "  <thead>\n",
       "    <tr style=\"text-align: right;\">\n",
       "      <th></th>\n",
       "      <th>trip_id</th>\n",
       "      <th>starttime</th>\n",
       "      <th>stoptime</th>\n",
       "      <th>bikeid</th>\n",
       "      <th>tripduration</th>\n",
       "      <th>from_station_id</th>\n",
       "      <th>from_station_name</th>\n",
       "      <th>to_station_id</th>\n",
       "      <th>to_station_name</th>\n",
       "      <th>usertype</th>\n",
       "      <th>gender</th>\n",
       "      <th>birthyear</th>\n",
       "    </tr>\n",
       "  </thead>\n",
       "  <tbody>\n",
       "    <tr>\n",
       "      <th>0</th>\n",
       "      <td>4607895</td>\n",
       "      <td>3/12/2015 7:11</td>\n",
       "      <td>3/12/2015 7:16</td>\n",
       "      <td>2058</td>\n",
       "      <td>322</td>\n",
       "      <td>75</td>\n",
       "      <td>Canal St &amp; Jackson Blvd</td>\n",
       "      <td>284</td>\n",
       "      <td>Michigan Ave &amp; Jackson Blvd</td>\n",
       "      <td>Subscriber</td>\n",
       "      <td>Male</td>\n",
       "      <td>1960.0</td>\n",
       "    </tr>\n",
       "    <tr>\n",
       "      <th>1</th>\n",
       "      <td>4467889</td>\n",
       "      <td>1/22/2015 17:07</td>\n",
       "      <td>1/22/2015 17:10</td>\n",
       "      <td>2499</td>\n",
       "      <td>178</td>\n",
       "      <td>16</td>\n",
       "      <td>Wood St &amp; North Ave</td>\n",
       "      <td>58</td>\n",
       "      <td>Marshfield Ave &amp; Cortland St</td>\n",
       "      <td>Subscriber</td>\n",
       "      <td>Male</td>\n",
       "      <td>1977.0</td>\n",
       "    </tr>\n",
       "    <tr>\n",
       "      <th>2</th>\n",
       "      <td>4644042</td>\n",
       "      <td>3/16/2015 10:30</td>\n",
       "      <td>3/16/2015 10:36</td>\n",
       "      <td>369</td>\n",
       "      <td>346</td>\n",
       "      <td>91</td>\n",
       "      <td>Clinton St &amp; Washington Blvd</td>\n",
       "      <td>100</td>\n",
       "      <td>Orleans St &amp; Merchandise Mart Plaza</td>\n",
       "      <td>Subscriber</td>\n",
       "      <td>Male</td>\n",
       "      <td>1986.0</td>\n",
       "    </tr>\n",
       "    <tr>\n",
       "      <th>3</th>\n",
       "      <td>4598015</td>\n",
       "      <td>3/10/2015 17:19</td>\n",
       "      <td>3/10/2015 17:36</td>\n",
       "      <td>857</td>\n",
       "      <td>1048</td>\n",
       "      <td>134</td>\n",
       "      <td>Peoria St &amp; Jackson Blvd</td>\n",
       "      <td>128</td>\n",
       "      <td>Damen Ave &amp; Chicago Ave</td>\n",
       "      <td>Subscriber</td>\n",
       "      <td>Male</td>\n",
       "      <td>1984.0</td>\n",
       "    </tr>\n",
       "    <tr>\n",
       "      <th>4</th>\n",
       "      <td>4467863</td>\n",
       "      <td>1/22/2015 17:02</td>\n",
       "      <td>1/22/2015 17:12</td>\n",
       "      <td>2241</td>\n",
       "      <td>611</td>\n",
       "      <td>52</td>\n",
       "      <td>Michigan Ave &amp; Lake St</td>\n",
       "      <td>192</td>\n",
       "      <td>Canal St &amp; Adams St</td>\n",
       "      <td>Subscriber</td>\n",
       "      <td>Male</td>\n",
       "      <td>1963.0</td>\n",
       "    </tr>\n",
       "  </tbody>\n",
       "</table>\n",
       "</div>"
      ],
      "text/plain": [
       "   trip_id        starttime         stoptime  bikeid  tripduration  \\\n",
       "0  4607895   3/12/2015 7:11   3/12/2015 7:16    2058           322   \n",
       "1  4467889  1/22/2015 17:07  1/22/2015 17:10    2499           178   \n",
       "2  4644042  3/16/2015 10:30  3/16/2015 10:36     369           346   \n",
       "3  4598015  3/10/2015 17:19  3/10/2015 17:36     857          1048   \n",
       "4  4467863  1/22/2015 17:02  1/22/2015 17:12    2241           611   \n",
       "\n",
       "   from_station_id             from_station_name  to_station_id  \\\n",
       "0               75       Canal St & Jackson Blvd            284   \n",
       "1               16           Wood St & North Ave             58   \n",
       "2               91  Clinton St & Washington Blvd            100   \n",
       "3              134      Peoria St & Jackson Blvd            128   \n",
       "4               52        Michigan Ave & Lake St            192   \n",
       "\n",
       "                       to_station_name    usertype gender  birthyear  \n",
       "0          Michigan Ave & Jackson Blvd  Subscriber   Male     1960.0  \n",
       "1         Marshfield Ave & Cortland St  Subscriber   Male     1977.0  \n",
       "2  Orleans St & Merchandise Mart Plaza  Subscriber   Male     1986.0  \n",
       "3              Damen Ave & Chicago Ave  Subscriber   Male     1984.0  \n",
       "4                  Canal St & Adams St  Subscriber   Male     1963.0  "
      ]
     },
     "execution_count": 27,
     "metadata": {},
     "output_type": "execute_result"
    }
   ],
   "source": [
    "# Let's take a look at the first quarter.\n",
    "q1 = pd.read_csv(q1_path)\n",
    "print(q1.shape)\n",
    "q1.head()"
   ]
  },
  {
   "cell_type": "code",
   "execution_count": 28,
   "metadata": {
    "colab": {
     "base_uri": "https://localhost:8080/",
     "height": 316
    },
    "colab_type": "code",
    "id": "VQpnFfyjPAfp",
    "outputId": "d5643354-e077-4f23-876e-474d1c89ecee"
   },
   "outputs": [
    {
     "name": "stdout",
     "output_type": "stream",
     "text": [
      "(1000, 12)\n"
     ]
    },
    {
     "data": {
      "text/html": [
       "<div>\n",
       "<style scoped>\n",
       "    .dataframe tbody tr th:only-of-type {\n",
       "        vertical-align: middle;\n",
       "    }\n",
       "\n",
       "    .dataframe tbody tr th {\n",
       "        vertical-align: top;\n",
       "    }\n",
       "\n",
       "    .dataframe thead th {\n",
       "        text-align: right;\n",
       "    }\n",
       "</style>\n",
       "<table border=\"1\" class=\"dataframe\">\n",
       "  <thead>\n",
       "    <tr style=\"text-align: right;\">\n",
       "      <th></th>\n",
       "      <th>trip_id</th>\n",
       "      <th>starttime</th>\n",
       "      <th>stoptime</th>\n",
       "      <th>bikeid</th>\n",
       "      <th>tripduration</th>\n",
       "      <th>from_station_id</th>\n",
       "      <th>from_station_name</th>\n",
       "      <th>to_station_id</th>\n",
       "      <th>to_station_name</th>\n",
       "      <th>usertype</th>\n",
       "      <th>gender</th>\n",
       "      <th>birthyear</th>\n",
       "    </tr>\n",
       "  </thead>\n",
       "  <tbody>\n",
       "    <tr>\n",
       "      <th>0</th>\n",
       "      <td>5019758</td>\n",
       "      <td>5/2/2015 10:05</td>\n",
       "      <td>5/2/2015 10:14</td>\n",
       "      <td>72</td>\n",
       "      <td>545</td>\n",
       "      <td>223</td>\n",
       "      <td>Clifton Ave &amp; Armitage Ave</td>\n",
       "      <td>349</td>\n",
       "      <td>Halsted St &amp; Wrightwood Ave</td>\n",
       "      <td>Subscriber</td>\n",
       "      <td>Male</td>\n",
       "      <td>1978.0</td>\n",
       "    </tr>\n",
       "    <tr>\n",
       "      <th>1</th>\n",
       "      <td>4874907</td>\n",
       "      <td>4/15/2015 17:21</td>\n",
       "      <td>4/15/2015 17:26</td>\n",
       "      <td>2683</td>\n",
       "      <td>304</td>\n",
       "      <td>197</td>\n",
       "      <td>Michigan Ave &amp; Madison St</td>\n",
       "      <td>174</td>\n",
       "      <td>Canal St &amp; Madison St</td>\n",
       "      <td>Subscriber</td>\n",
       "      <td>Male</td>\n",
       "      <td>1964.0</td>\n",
       "    </tr>\n",
       "    <tr>\n",
       "      <th>2</th>\n",
       "      <td>5149598</td>\n",
       "      <td>5/14/2015 6:23</td>\n",
       "      <td>5/14/2015 6:37</td>\n",
       "      <td>3404</td>\n",
       "      <td>806</td>\n",
       "      <td>273</td>\n",
       "      <td>Michigan Ave &amp; 16th St</td>\n",
       "      <td>192</td>\n",
       "      <td>Canal St &amp; Adams St</td>\n",
       "      <td>Subscriber</td>\n",
       "      <td>Male</td>\n",
       "      <td>1982.0</td>\n",
       "    </tr>\n",
       "    <tr>\n",
       "      <th>3</th>\n",
       "      <td>5127077</td>\n",
       "      <td>5/12/2015 6:33</td>\n",
       "      <td>5/12/2015 6:55</td>\n",
       "      <td>2374</td>\n",
       "      <td>1342</td>\n",
       "      <td>305</td>\n",
       "      <td>Western Ave &amp; Division St</td>\n",
       "      <td>24</td>\n",
       "      <td>Fairbanks Ct &amp; Grand Ave</td>\n",
       "      <td>Subscriber</td>\n",
       "      <td>Female</td>\n",
       "      <td>1989.0</td>\n",
       "    </tr>\n",
       "    <tr>\n",
       "      <th>4</th>\n",
       "      <td>4776193</td>\n",
       "      <td>4/4/2015 19:16</td>\n",
       "      <td>4/4/2015 19:39</td>\n",
       "      <td>2848</td>\n",
       "      <td>1432</td>\n",
       "      <td>85</td>\n",
       "      <td>Michigan Ave &amp; Oak St</td>\n",
       "      <td>304</td>\n",
       "      <td>Broadway &amp; Waveland Ave</td>\n",
       "      <td>Subscriber</td>\n",
       "      <td>Male</td>\n",
       "      <td>1978.0</td>\n",
       "    </tr>\n",
       "  </tbody>\n",
       "</table>\n",
       "</div>"
      ],
      "text/plain": [
       "   trip_id        starttime         stoptime  bikeid  tripduration  \\\n",
       "0  5019758   5/2/2015 10:05   5/2/2015 10:14      72           545   \n",
       "1  4874907  4/15/2015 17:21  4/15/2015 17:26    2683           304   \n",
       "2  5149598   5/14/2015 6:23   5/14/2015 6:37    3404           806   \n",
       "3  5127077   5/12/2015 6:33   5/12/2015 6:55    2374          1342   \n",
       "4  4776193   4/4/2015 19:16   4/4/2015 19:39    2848          1432   \n",
       "\n",
       "   from_station_id           from_station_name  to_station_id  \\\n",
       "0              223  Clifton Ave & Armitage Ave            349   \n",
       "1              197   Michigan Ave & Madison St            174   \n",
       "2              273      Michigan Ave & 16th St            192   \n",
       "3              305   Western Ave & Division St             24   \n",
       "4               85       Michigan Ave & Oak St            304   \n",
       "\n",
       "               to_station_name    usertype  gender  birthyear  \n",
       "0  Halsted St & Wrightwood Ave  Subscriber    Male     1978.0  \n",
       "1        Canal St & Madison St  Subscriber    Male     1964.0  \n",
       "2          Canal St & Adams St  Subscriber    Male     1982.0  \n",
       "3     Fairbanks Ct & Grand Ave  Subscriber  Female     1989.0  \n",
       "4      Broadway & Waveland Ave  Subscriber    Male     1978.0  "
      ]
     },
     "execution_count": 28,
     "metadata": {},
     "output_type": "execute_result"
    }
   ],
   "source": [
    "# how about the second quarter?\n",
    "q2 = pd.read_csv(q2_path)\n",
    "print(q2.shape)\n",
    "q2.head()"
   ]
  },
  {
   "cell_type": "code",
   "execution_count": 29,
   "metadata": {
    "colab": {
     "base_uri": "https://localhost:8080/",
     "height": 151
    },
    "colab_type": "code",
    "id": "9HZrjYU8PAfr",
    "outputId": "a24f1481-4ecd-4fc1-b564-22422f427f78"
   },
   "outputs": [
    {
     "name": "stdout",
     "output_type": "stream",
     "text": [
      "Index(['trip_id', 'starttime', 'stoptime', 'bikeid', 'tripduration',\n",
      "       'from_station_id', 'from_station_name', 'to_station_id',\n",
      "       'to_station_name', 'usertype', 'gender', 'birthyear'],\n",
      "      dtype='object')\n",
      "Index(['trip_id', 'starttime', 'stoptime', 'bikeid', 'tripduration',\n",
      "       'from_station_id', 'from_station_name', 'to_station_id',\n",
      "       'to_station_name', 'usertype', 'gender', 'birthyear'],\n",
      "      dtype='object')\n"
     ]
    }
   ],
   "source": [
    "# Do they have exactly the same columns?\n",
    "print(q1.columns)\n",
    "print(q2.columns)"
   ]
  },
  {
   "cell_type": "code",
   "execution_count": 30,
   "metadata": {
    "colab": {
     "base_uri": "https://localhost:8080/",
     "height": 34
    },
    "colab_type": "code",
    "id": "5F5CDVwiPAft",
    "outputId": "4af9ce79-828f-4a16-bef5-5d7d22601a76"
   },
   "outputs": [
    {
     "name": "stdout",
     "output_type": "stream",
     "text": [
      "The difference is:  []\n"
     ]
    }
   ],
   "source": [
    "# Let's define a function to check if they're REALLY equal.\n",
    "def difference_checker(list1, list2):\n",
    "    difference = list(set(list1) - set(list2))\n",
    "    print ('The difference is: ', difference)\n",
    "\n",
    "difference_checker(q1.columns, q2.columns)"
   ]
  },
  {
   "cell_type": "code",
   "execution_count": 31,
   "metadata": {
    "colab": {
     "base_uri": "https://localhost:8080/",
     "height": 34
    },
    "colab_type": "code",
    "id": "BIKTuTbxPAfv",
    "outputId": "451b250c-1740-43e2-a7db-d4322a15fc80"
   },
   "outputs": [
    {
     "data": {
      "text/plain": [
       "(2000, 12)"
      ]
     },
     "execution_count": 31,
     "metadata": {},
     "output_type": "execute_result"
    }
   ],
   "source": [
    "# Now we're sure they're equal, let's concatenate them.\n",
    "q1_q2=pd.concat([q1, q2], axis=0)\n",
    "q1_q2.shape"
   ]
  },
  {
   "cell_type": "code",
   "execution_count": 32,
   "metadata": {
    "colab": {
     "base_uri": "https://localhost:8080/",
     "height": 67
    },
    "colab_type": "code",
    "id": "gAnX1Qi2PAfx",
    "outputId": "12273332-e250-4ffa-df37-63033a26497a"
   },
   "outputs": [
    {
     "name": "stdout",
     "output_type": "stream",
     "text": [
      "(1000, 12)\n",
      "(1000, 12)\n",
      "(2000, 12)\n"
     ]
    }
   ],
   "source": [
    "# Confirm that did what we wanted it to.\n",
    "print(q1.shape)\n",
    "print(q2.shape)\n",
    "print(q1_q2.shape)"
   ]
  },
  {
   "cell_type": "code",
   "execution_count": 33,
   "metadata": {
    "colab": {
     "base_uri": "https://localhost:8080/",
     "height": 270
    },
    "colab_type": "code",
    "id": "cumOJh3ePAf1",
    "outputId": "7a93466a-8c48-4479-90c1-8f5be35cb2e4"
   },
   "outputs": [
    {
     "name": "stdout",
     "output_type": "stream",
     "text": [
      "(4000, 12)\n"
     ]
    },
    {
     "data": {
      "text/html": [
       "<div>\n",
       "<style scoped>\n",
       "    .dataframe tbody tr th:only-of-type {\n",
       "        vertical-align: middle;\n",
       "    }\n",
       "\n",
       "    .dataframe tbody tr th {\n",
       "        vertical-align: top;\n",
       "    }\n",
       "\n",
       "    .dataframe thead th {\n",
       "        text-align: right;\n",
       "    }\n",
       "</style>\n",
       "<table border=\"1\" class=\"dataframe\">\n",
       "  <thead>\n",
       "    <tr style=\"text-align: right;\">\n",
       "      <th></th>\n",
       "      <th>trip_id</th>\n",
       "      <th>starttime</th>\n",
       "      <th>stoptime</th>\n",
       "      <th>bikeid</th>\n",
       "      <th>tripduration</th>\n",
       "      <th>from_station_id</th>\n",
       "      <th>from_station_name</th>\n",
       "      <th>to_station_id</th>\n",
       "      <th>to_station_name</th>\n",
       "      <th>usertype</th>\n",
       "      <th>gender</th>\n",
       "      <th>birthyear</th>\n",
       "    </tr>\n",
       "  </thead>\n",
       "  <tbody>\n",
       "    <tr>\n",
       "      <th>17</th>\n",
       "      <td>7790440</td>\n",
       "      <td>10/5/2015 8:02</td>\n",
       "      <td>10/5/2015 8:25</td>\n",
       "      <td>3658</td>\n",
       "      <td>1381</td>\n",
       "      <td>192</td>\n",
       "      <td>Canal St &amp; Adams St</td>\n",
       "      <td>145</td>\n",
       "      <td>Mies van der Rohe Way &amp; Chestnut St</td>\n",
       "      <td>Subscriber</td>\n",
       "      <td>Male</td>\n",
       "      <td>1955.0</td>\n",
       "    </tr>\n",
       "    <tr>\n",
       "      <th>865</th>\n",
       "      <td>7730667</td>\n",
       "      <td>9/30/2015 6:40</td>\n",
       "      <td>9/30/2015 6:57</td>\n",
       "      <td>2849</td>\n",
       "      <td>1001</td>\n",
       "      <td>350</td>\n",
       "      <td>Ashland Ave &amp; Chicago Ave</td>\n",
       "      <td>191</td>\n",
       "      <td>Canal St &amp; Monroe St</td>\n",
       "      <td>Subscriber</td>\n",
       "      <td>Male</td>\n",
       "      <td>1988.0</td>\n",
       "    </tr>\n",
       "    <tr>\n",
       "      <th>642</th>\n",
       "      <td>7215134</td>\n",
       "      <td>8/31/2015 17:23</td>\n",
       "      <td>8/31/2015 17:30</td>\n",
       "      <td>4146</td>\n",
       "      <td>410</td>\n",
       "      <td>181</td>\n",
       "      <td>LaSalle St &amp; Illinois St</td>\n",
       "      <td>140</td>\n",
       "      <td>Dearborn Pkwy &amp; Delaware Pl</td>\n",
       "      <td>Subscriber</td>\n",
       "      <td>Female</td>\n",
       "      <td>1989.0</td>\n",
       "    </tr>\n",
       "    <tr>\n",
       "      <th>761</th>\n",
       "      <td>7255154</td>\n",
       "      <td>9/2/2015 18:54</td>\n",
       "      <td>9/2/2015 19:05</td>\n",
       "      <td>3293</td>\n",
       "      <td>659</td>\n",
       "      <td>229</td>\n",
       "      <td>Southport Ave &amp; Roscoe St</td>\n",
       "      <td>188</td>\n",
       "      <td>Greenview Ave &amp; Fullerton Ave</td>\n",
       "      <td>Subscriber</td>\n",
       "      <td>Male</td>\n",
       "      <td>1987.0</td>\n",
       "    </tr>\n",
       "  </tbody>\n",
       "</table>\n",
       "</div>"
      ],
      "text/plain": [
       "     trip_id        starttime         stoptime  bikeid  tripduration  \\\n",
       "17   7790440   10/5/2015 8:02   10/5/2015 8:25    3658          1381   \n",
       "865  7730667   9/30/2015 6:40   9/30/2015 6:57    2849          1001   \n",
       "642  7215134  8/31/2015 17:23  8/31/2015 17:30    4146           410   \n",
       "761  7255154   9/2/2015 18:54   9/2/2015 19:05    3293           659   \n",
       "\n",
       "     from_station_id          from_station_name  to_station_id  \\\n",
       "17               192        Canal St & Adams St            145   \n",
       "865              350  Ashland Ave & Chicago Ave            191   \n",
       "642              181   LaSalle St & Illinois St            140   \n",
       "761              229  Southport Ave & Roscoe St            188   \n",
       "\n",
       "                         to_station_name    usertype  gender  birthyear  \n",
       "17   Mies van der Rohe Way & Chestnut St  Subscriber    Male     1955.0  \n",
       "865                 Canal St & Monroe St  Subscriber    Male     1988.0  \n",
       "642          Dearborn Pkwy & Delaware Pl  Subscriber  Female     1989.0  \n",
       "761        Greenview Ave & Fullerton Ave  Subscriber    Male     1987.0  "
      ]
     },
     "execution_count": 33,
     "metadata": {},
     "output_type": "execute_result"
    }
   ],
   "source": [
    "# Now add quarters 3 and 4, as well.\n",
    "q3 = pd.read_csv(q3_path)\n",
    "q4 = pd.read_csv(q4_path)\n",
    "\n",
    "allbikes=pd.concat([q1, q2, q3, q4], axis=0)\n",
    "print(allbikes.shape)\n",
    "allbikes.sample(4)"
   ]
  },
  {
   "cell_type": "markdown",
   "metadata": {},
   "source": [
    "### Working with datetime objects"
   ]
  },
  {
   "cell_type": "code",
   "execution_count": 34,
   "metadata": {},
   "outputs": [
    {
     "data": {
      "text/plain": [
       "dtype('O')"
      ]
     },
     "execution_count": 34,
     "metadata": {},
     "output_type": "execute_result"
    }
   ],
   "source": [
    "# Start time is an \"object\" time\n",
    "allbikes['starttime'].dtype"
   ]
  },
  {
   "cell_type": "code",
   "execution_count": 35,
   "metadata": {},
   "outputs": [
    {
     "data": {
      "text/html": [
       "<div>\n",
       "<style scoped>\n",
       "    .dataframe tbody tr th:only-of-type {\n",
       "        vertical-align: middle;\n",
       "    }\n",
       "\n",
       "    .dataframe tbody tr th {\n",
       "        vertical-align: top;\n",
       "    }\n",
       "\n",
       "    .dataframe thead th {\n",
       "        text-align: right;\n",
       "    }\n",
       "</style>\n",
       "<table border=\"1\" class=\"dataframe\">\n",
       "  <thead>\n",
       "    <tr style=\"text-align: right;\">\n",
       "      <th></th>\n",
       "      <th>starttime</th>\n",
       "      <th>date</th>\n",
       "    </tr>\n",
       "  </thead>\n",
       "  <tbody>\n",
       "    <tr>\n",
       "      <th>0</th>\n",
       "      <td>3/12/2015 7:11</td>\n",
       "      <td>2015-03-12</td>\n",
       "    </tr>\n",
       "    <tr>\n",
       "      <th>1</th>\n",
       "      <td>1/22/2015 17:07</td>\n",
       "      <td>2015-01-22</td>\n",
       "    </tr>\n",
       "    <tr>\n",
       "      <th>2</th>\n",
       "      <td>3/16/2015 10:30</td>\n",
       "      <td>2015-03-16</td>\n",
       "    </tr>\n",
       "  </tbody>\n",
       "</table>\n",
       "</div>"
      ],
      "text/plain": [
       "         starttime        date\n",
       "0   3/12/2015 7:11  2015-03-12\n",
       "1  1/22/2015 17:07  2015-01-22\n",
       "2  3/16/2015 10:30  2015-03-16"
      ]
     },
     "execution_count": 35,
     "metadata": {},
     "output_type": "execute_result"
    }
   ],
   "source": [
    "# Convert to datetime format and make it into a weekday\n",
    "allbikes['date'] = pd.to_datetime(allbikes['starttime']).dt.date\n",
    "allbikes[['starttime', 'date']].head(3)"
   ]
  },
  {
   "cell_type": "code",
   "execution_count": 36,
   "metadata": {},
   "outputs": [
    {
     "data": {
      "image/png": "[encoded data removed]",
      "text/plain": [
       "<Figure size 432x288 with 1 Axes>"
      ]
     },
     "metadata": {
      "needs_background": "light"
     },
     "output_type": "display_data"
    }
   ],
   "source": [
    "# Display a line chart with that info\n",
    "allbikes.groupby(['date'])['trip_id'].count().plot();"
   ]
  },
  {
   "cell_type": "code",
   "execution_count": 37,
   "metadata": {},
   "outputs": [
    {
     "data": {
      "text/html": [
       "<div>\n",
       "<style scoped>\n",
       "    .dataframe tbody tr th:only-of-type {\n",
       "        vertical-align: middle;\n",
       "    }\n",
       "\n",
       "    .dataframe tbody tr th {\n",
       "        vertical-align: top;\n",
       "    }\n",
       "\n",
       "    .dataframe thead th {\n",
       "        text-align: right;\n",
       "    }\n",
       "</style>\n",
       "<table border=\"1\" class=\"dataframe\">\n",
       "  <thead>\n",
       "    <tr style=\"text-align: right;\">\n",
       "      <th></th>\n",
       "      <th>starttime</th>\n",
       "      <th>date</th>\n",
       "      <th>month</th>\n",
       "    </tr>\n",
       "  </thead>\n",
       "  <tbody>\n",
       "    <tr>\n",
       "      <th>0</th>\n",
       "      <td>3/12/2015 7:11</td>\n",
       "      <td>2015-03-12</td>\n",
       "      <td>3</td>\n",
       "    </tr>\n",
       "    <tr>\n",
       "      <th>1</th>\n",
       "      <td>1/22/2015 17:07</td>\n",
       "      <td>2015-01-22</td>\n",
       "      <td>1</td>\n",
       "    </tr>\n",
       "    <tr>\n",
       "      <th>2</th>\n",
       "      <td>3/16/2015 10:30</td>\n",
       "      <td>2015-03-16</td>\n",
       "      <td>3</td>\n",
       "    </tr>\n",
       "  </tbody>\n",
       "</table>\n",
       "</div>"
      ],
      "text/plain": [
       "         starttime        date  month\n",
       "0   3/12/2015 7:11  2015-03-12      3\n",
       "1  1/22/2015 17:07  2015-01-22      1\n",
       "2  3/16/2015 10:30  2015-03-16      3"
      ]
     },
     "execution_count": 37,
     "metadata": {},
     "output_type": "execute_result"
    }
   ],
   "source": [
    "# Convert to datetime format and make it into a month\n",
    "allbikes['month'] = pd.to_datetime(allbikes['starttime']).dt.month\n",
    "allbikes[['starttime', 'date', 'month']].head(3)"
   ]
  },
  {
   "cell_type": "code",
   "execution_count": 38,
   "metadata": {},
   "outputs": [
    {
     "data": {
      "image/png": "[encoded data removed]",
      "text/plain": [
       "<Figure size 432x288 with 1 Axes>"
      ]
     },
     "metadata": {
      "needs_background": "light"
     },
     "output_type": "display_data"
    }
   ],
   "source": [
    "# Display a line chart with that info\n",
    "allbikes.groupby(['month'])['trip_id'].count().plot();"
   ]
  },
  {
   "cell_type": "code",
   "execution_count": 39,
   "metadata": {},
   "outputs": [
    {
     "data": {
      "text/plain": [
       "0    605\n",
       "1    602\n",
       "2    612\n",
       "3    555\n",
       "4    603\n",
       "5    538\n",
       "6    485\n",
       "Name: weekday, dtype: int64"
      ]
     },
     "execution_count": 39,
     "metadata": {},
     "output_type": "execute_result"
    }
   ],
   "source": [
    "# Convert to datetime format and make it into a weekday\n",
    "# The day of the week with Monday=0, Sunday=6.\n",
    "allbikes['weekday'] = pd.to_datetime(allbikes['starttime']).dt.weekday\n",
    "allbikes['weekday'].value_counts().sort_index()"
   ]
  },
  {
   "cell_type": "code",
   "execution_count": 40,
   "metadata": {},
   "outputs": [
    {
     "data": {
      "image/png": "[encoded data removed]",
      "text/plain": [
       "<Figure size 432x288 with 1 Axes>"
      ]
     },
     "metadata": {
      "needs_background": "light"
     },
     "output_type": "display_data"
    }
   ],
   "source": [
    "# Display a line chart with that info\n",
    "allbikes.groupby(['weekday'])['tripduration'].mean().plot();"
   ]
  },
  {
   "cell_type": "code",
   "execution_count": 41,
   "metadata": {},
   "outputs": [
    {
     "data": {
      "image/png": "[encoded data removed]",
      "text/plain": [
       "<Figure size 432x288 with 1 Axes>"
      ]
     },
     "metadata": {
      "needs_background": "light"
     },
     "output_type": "display_data"
    }
   ],
   "source": [
    "# Do men and women have different cycling patterns?\n",
    "allbikes[allbikes['gender']=='Male'].groupby(['weekday'])['tripduration'].mean().plot();\n",
    "allbikes[allbikes['gender']=='Female'].groupby(['weekday'])['tripduration'].mean().plot();\n"
   ]
  },
  {
   "cell_type": "markdown",
   "metadata": {
    "colab_type": "text",
    "id": "jdzyMko1PAf5"
   },
   "source": [
    "### 2.2 Merging datasets about counties\n",
    "Original sources:  \n",
    "https://www.kaggle.com/muonneutrino/us-census-demographic-data/download  \n",
    "https://www.ers.usda.gov/data-products/rural-urban-continuum-codes/"
   ]
  },
  {
   "cell_type": "code",
   "execution_count": 42,
   "metadata": {
    "colab": {},
    "colab_type": "code",
    "id": "-qko78oMPAf6"
   },
   "outputs": [],
   "source": [
    "# Get some population data about counties from the Census Bureau\n",
    "source1='https://raw.githubusercontent.com/austinlasseter/dash-virginia-counties/master/resources/acs2017_county_data.csv'"
   ]
  },
  {
   "cell_type": "code",
   "execution_count": 43,
   "metadata": {
    "colab": {
     "base_uri": "https://localhost:8080/",
     "height": 299
    },
    "colab_type": "code",
    "id": "ehTb_armPAf8",
    "outputId": "b705841b-f53d-4f64-ba81-4253100f79da"
   },
   "outputs": [
    {
     "data": {
      "text/html": [
       "<div>\n",
       "<style scoped>\n",
       "    .dataframe tbody tr th:only-of-type {\n",
       "        vertical-align: middle;\n",
       "    }\n",
       "\n",
       "    .dataframe tbody tr th {\n",
       "        vertical-align: top;\n",
       "    }\n",
       "\n",
       "    .dataframe thead th {\n",
       "        text-align: right;\n",
       "    }\n",
       "</style>\n",
       "<table border=\"1\" class=\"dataframe\">\n",
       "  <thead>\n",
       "    <tr style=\"text-align: right;\">\n",
       "      <th></th>\n",
       "      <th>CountyId</th>\n",
       "      <th>State</th>\n",
       "      <th>County</th>\n",
       "      <th>TotalPop</th>\n",
       "      <th>Men</th>\n",
       "      <th>Women</th>\n",
       "      <th>Hispanic</th>\n",
       "      <th>White</th>\n",
       "      <th>Black</th>\n",
       "      <th>Native</th>\n",
       "      <th>...</th>\n",
       "      <th>Walk</th>\n",
       "      <th>OtherTransp</th>\n",
       "      <th>WorkAtHome</th>\n",
       "      <th>MeanCommute</th>\n",
       "      <th>Employed</th>\n",
       "      <th>PrivateWork</th>\n",
       "      <th>PublicWork</th>\n",
       "      <th>SelfEmployed</th>\n",
       "      <th>FamilyWork</th>\n",
       "      <th>Unemployment</th>\n",
       "    </tr>\n",
       "  </thead>\n",
       "  <tbody>\n",
       "    <tr>\n",
       "      <th>2095</th>\n",
       "      <td>39105</td>\n",
       "      <td>Ohio</td>\n",
       "      <td>Meigs County</td>\n",
       "      <td>23234</td>\n",
       "      <td>11517</td>\n",
       "      <td>11717</td>\n",
       "      <td>0.6</td>\n",
       "      <td>96.8</td>\n",
       "      <td>1.2</td>\n",
       "      <td>0.1</td>\n",
       "      <td>...</td>\n",
       "      <td>1.4</td>\n",
       "      <td>0.4</td>\n",
       "      <td>4.1</td>\n",
       "      <td>30.9</td>\n",
       "      <td>8891</td>\n",
       "      <td>73.1</td>\n",
       "      <td>19.2</td>\n",
       "      <td>7.5</td>\n",
       "      <td>0.2</td>\n",
       "      <td>10.4</td>\n",
       "    </tr>\n",
       "    <tr>\n",
       "      <th>1703</th>\n",
       "      <td>31099</td>\n",
       "      <td>Nebraska</td>\n",
       "      <td>Kearney County</td>\n",
       "      <td>6547</td>\n",
       "      <td>3229</td>\n",
       "      <td>3318</td>\n",
       "      <td>5.8</td>\n",
       "      <td>92.7</td>\n",
       "      <td>0.1</td>\n",
       "      <td>0.3</td>\n",
       "      <td>...</td>\n",
       "      <td>3.1</td>\n",
       "      <td>0.9</td>\n",
       "      <td>6.3</td>\n",
       "      <td>18.4</td>\n",
       "      <td>3470</td>\n",
       "      <td>77.6</td>\n",
       "      <td>11.4</td>\n",
       "      <td>10.4</td>\n",
       "      <td>0.6</td>\n",
       "      <td>3.4</td>\n",
       "    </tr>\n",
       "    <tr>\n",
       "      <th>2918</th>\n",
       "      <td>51540</td>\n",
       "      <td>Virginia</td>\n",
       "      <td>Charlottesville city</td>\n",
       "      <td>46487</td>\n",
       "      <td>22336</td>\n",
       "      <td>24151</td>\n",
       "      <td>5.2</td>\n",
       "      <td>65.7</td>\n",
       "      <td>18.7</td>\n",
       "      <td>0.3</td>\n",
       "      <td>...</td>\n",
       "      <td>12.5</td>\n",
       "      <td>5.0</td>\n",
       "      <td>6.5</td>\n",
       "      <td>17.8</td>\n",
       "      <td>24447</td>\n",
       "      <td>69.1</td>\n",
       "      <td>24.7</td>\n",
       "      <td>6.3</td>\n",
       "      <td>0.0</td>\n",
       "      <td>3.6</td>\n",
       "    </tr>\n",
       "    <tr>\n",
       "      <th>351</th>\n",
       "      <td>12065</td>\n",
       "      <td>Florida</td>\n",
       "      <td>Jefferson County</td>\n",
       "      <td>14085</td>\n",
       "      <td>7554</td>\n",
       "      <td>6531</td>\n",
       "      <td>4.0</td>\n",
       "      <td>58.2</td>\n",
       "      <td>35.1</td>\n",
       "      <td>0.4</td>\n",
       "      <td>...</td>\n",
       "      <td>0.6</td>\n",
       "      <td>0.4</td>\n",
       "      <td>4.2</td>\n",
       "      <td>28.7</td>\n",
       "      <td>4922</td>\n",
       "      <td>65.5</td>\n",
       "      <td>28.9</td>\n",
       "      <td>5.6</td>\n",
       "      <td>0.0</td>\n",
       "      <td>7.2</td>\n",
       "    </tr>\n",
       "    <tr>\n",
       "      <th>1044</th>\n",
       "      <td>21103</td>\n",
       "      <td>Kentucky</td>\n",
       "      <td>Henry County</td>\n",
       "      <td>15677</td>\n",
       "      <td>7715</td>\n",
       "      <td>7962</td>\n",
       "      <td>3.2</td>\n",
       "      <td>91.8</td>\n",
       "      <td>3.5</td>\n",
       "      <td>0.3</td>\n",
       "      <td>...</td>\n",
       "      <td>1.1</td>\n",
       "      <td>0.6</td>\n",
       "      <td>3.5</td>\n",
       "      <td>30.5</td>\n",
       "      <td>7143</td>\n",
       "      <td>79.4</td>\n",
       "      <td>12.1</td>\n",
       "      <td>8.2</td>\n",
       "      <td>0.3</td>\n",
       "      <td>6.5</td>\n",
       "    </tr>\n",
       "  </tbody>\n",
       "</table>\n",
       "<p>5 rows × 37 columns</p>\n",
       "</div>"
      ],
      "text/plain": [
       "      CountyId     State                County  TotalPop    Men  Women  \\\n",
       "2095     39105      Ohio          Meigs County     23234  11517  11717   \n",
       "1703     31099  Nebraska        Kearney County      6547   3229   3318   \n",
       "2918     51540  Virginia  Charlottesville city     46487  22336  24151   \n",
       "351      12065   Florida      Jefferson County     14085   7554   6531   \n",
       "1044     21103  Kentucky          Henry County     15677   7715   7962   \n",
       "\n",
       "      Hispanic  White  Black  Native  ...  Walk  OtherTransp  WorkAtHome  \\\n",
       "2095       0.6   96.8    1.2     0.1  ...   1.4          0.4         4.1   \n",
       "1703       5.8   92.7    0.1     0.3  ...   3.1          0.9         6.3   \n",
       "2918       5.2   65.7   18.7     0.3  ...  12.5          5.0         6.5   \n",
       "351        4.0   58.2   35.1     0.4  ...   0.6          0.4         4.2   \n",
       "1044       3.2   91.8    3.5     0.3  ...   1.1          0.6         3.5   \n",
       "\n",
       "      MeanCommute  Employed  PrivateWork  PublicWork  SelfEmployed  \\\n",
       "2095         30.9      8891         73.1        19.2           7.5   \n",
       "1703         18.4      3470         77.6        11.4          10.4   \n",
       "2918         17.8     24447         69.1        24.7           6.3   \n",
       "351          28.7      4922         65.5        28.9           5.6   \n",
       "1044         30.5      7143         79.4        12.1           8.2   \n",
       "\n",
       "      FamilyWork  Unemployment  \n",
       "2095         0.2          10.4  \n",
       "1703         0.6           3.4  \n",
       "2918         0.0           3.6  \n",
       "351          0.0           7.2  \n",
       "1044         0.3           6.5  \n",
       "\n",
       "[5 rows x 37 columns]"
      ]
     },
     "execution_count": 43,
     "metadata": {},
     "output_type": "execute_result"
    }
   ],
   "source": [
    "# Read that into Pandas, and check out 5 rows.\n",
    "census=pd.read_csv(source1)\n",
    "census.sample(5)"
   ]
  },
  {
   "cell_type": "code",
   "execution_count": 44,
   "metadata": {
    "colab": {
     "base_uri": "https://localhost:8080/",
     "height": 151
    },
    "colab_type": "code",
    "id": "p8FR3foJPAf-",
    "outputId": "ca685dac-49a1-4954-d470-4b457c04b3ff"
   },
   "outputs": [
    {
     "name": "stdout",
     "output_type": "stream",
     "text": [
      "Index(['CountyId', 'State', 'County', 'TotalPop', 'Men', 'Women', 'Hispanic',\n",
      "       'White', 'Black', 'Native', 'Asian', 'Pacific', 'VotingAgeCitizen',\n",
      "       'Income', 'IncomeErr', 'IncomePerCap', 'IncomePerCapErr', 'Poverty',\n",
      "       'ChildPoverty', 'Professional', 'Service', 'Office', 'Construction',\n",
      "       'Production', 'Drive', 'Carpool', 'Transit', 'Walk', 'OtherTransp',\n",
      "       'WorkAtHome', 'MeanCommute', 'Employed', 'PrivateWork', 'PublicWork',\n",
      "       'SelfEmployed', 'FamilyWork', 'Unemployment'],\n",
      "      dtype='object')\n"
     ]
    }
   ],
   "source": [
    "# What are all the columns?\n",
    "print(census.columns)"
   ]
  },
  {
   "cell_type": "code",
   "execution_count": 45,
   "metadata": {
    "colab": {},
    "colab_type": "code",
    "id": "3GKgIau2PAgA"
   },
   "outputs": [],
   "source": [
    "# Let's restrict that to just a few columns, for a simple analysis about commute times\n",
    "commute=census[['CountyId', 'State', 'County', 'MeanCommute']]"
   ]
  },
  {
   "cell_type": "code",
   "execution_count": 46,
   "metadata": {
    "colab": {
     "base_uri": "https://localhost:8080/",
     "height": 34
    },
    "colab_type": "code",
    "id": "0bE5_1DQPAgC",
    "outputId": "44974748-ca76-4844-a0bc-1561ef02e0ed"
   },
   "outputs": [
    {
     "data": {
      "text/plain": [
       "23.47453416149071"
      ]
     },
     "execution_count": 46,
     "metadata": {},
     "output_type": "execute_result"
    }
   ],
   "source": [
    "# What's the average commute in the USA?\n",
    "commute['MeanCommute'].mean()"
   ]
  },
  {
   "cell_type": "code",
   "execution_count": 47,
   "metadata": {
    "colab": {},
    "colab_type": "code",
    "id": "v3qXaxn4PAgH"
   },
   "outputs": [],
   "source": [
    "# Now let's augment that with some outside data from USDA.\n",
    "source2='https://github.com/austinlasseter/dash-virginia-counties/blob/master/resources/ruralurbancodes2013.xls?raw=true'"
   ]
  },
  {
   "cell_type": "code",
   "execution_count": 48,
   "metadata": {
    "colab": {
     "base_uri": "https://localhost:8080/",
     "height": 195
    },
    "colab_type": "code",
    "id": "6hP-Ur2uPAgK",
    "outputId": "53c74de6-86be-4a98-d8a7-24f9e7f94dfa"
   },
   "outputs": [
    {
     "data": {
      "text/html": [
       "<div>\n",
       "<style scoped>\n",
       "    .dataframe tbody tr th:only-of-type {\n",
       "        vertical-align: middle;\n",
       "    }\n",
       "\n",
       "    .dataframe tbody tr th {\n",
       "        vertical-align: top;\n",
       "    }\n",
       "\n",
       "    .dataframe thead th {\n",
       "        text-align: right;\n",
       "    }\n",
       "</style>\n",
       "<table border=\"1\" class=\"dataframe\">\n",
       "  <thead>\n",
       "    <tr style=\"text-align: right;\">\n",
       "      <th></th>\n",
       "      <th>FIPS</th>\n",
       "      <th>State</th>\n",
       "      <th>County_Name</th>\n",
       "      <th>Population_2010</th>\n",
       "      <th>RUCC_2013</th>\n",
       "      <th>Description</th>\n",
       "    </tr>\n",
       "  </thead>\n",
       "  <tbody>\n",
       "    <tr>\n",
       "      <th>856</th>\n",
       "      <td>19135</td>\n",
       "      <td>IA</td>\n",
       "      <td>Monroe County</td>\n",
       "      <td>7970</td>\n",
       "      <td>7</td>\n",
       "      <td>Nonmetro - Urban population of 2,500 to 19,999...</td>\n",
       "    </tr>\n",
       "    <tr>\n",
       "      <th>155</th>\n",
       "      <td>5089</td>\n",
       "      <td>AR</td>\n",
       "      <td>Marion County</td>\n",
       "      <td>16653</td>\n",
       "      <td>9</td>\n",
       "      <td>Nonmetro - Completely rural or less than 2,500...</td>\n",
       "    </tr>\n",
       "    <tr>\n",
       "      <th>3108</th>\n",
       "      <td>55119</td>\n",
       "      <td>WI</td>\n",
       "      <td>Taylor County</td>\n",
       "      <td>20689</td>\n",
       "      <td>6</td>\n",
       "      <td>Nonmetro - Urban population of 2,500 to 19,999...</td>\n",
       "    </tr>\n",
       "    <tr>\n",
       "      <th>1851</th>\n",
       "      <td>36047</td>\n",
       "      <td>NY</td>\n",
       "      <td>Kings County</td>\n",
       "      <td>2504700</td>\n",
       "      <td>1</td>\n",
       "      <td>Metro - Counties in metro areas of 1 million p...</td>\n",
       "    </tr>\n",
       "    <tr>\n",
       "      <th>222</th>\n",
       "      <td>6073</td>\n",
       "      <td>CA</td>\n",
       "      <td>San Diego County</td>\n",
       "      <td>3095313</td>\n",
       "      <td>1</td>\n",
       "      <td>Metro - Counties in metro areas of 1 million p...</td>\n",
       "    </tr>\n",
       "  </tbody>\n",
       "</table>\n",
       "</div>"
      ],
      "text/plain": [
       "       FIPS State       County_Name  Population_2010  RUCC_2013  \\\n",
       "856   19135    IA     Monroe County             7970          7   \n",
       "155    5089    AR     Marion County            16653          9   \n",
       "3108  55119    WI     Taylor County            20689          6   \n",
       "1851  36047    NY      Kings County          2504700          1   \n",
       "222    6073    CA  San Diego County          3095313          1   \n",
       "\n",
       "                                            Description  \n",
       "856   Nonmetro - Urban population of 2,500 to 19,999...  \n",
       "155   Nonmetro - Completely rural or less than 2,500...  \n",
       "3108  Nonmetro - Urban population of 2,500 to 19,999...  \n",
       "1851  Metro - Counties in metro areas of 1 million p...  \n",
       "222   Metro - Counties in metro areas of 1 million p...  "
      ]
     },
     "execution_count": 48,
     "metadata": {},
     "output_type": "execute_result"
    }
   ],
   "source": [
    "# Take a look at that new data.\n",
    "usda=pd.read_excel(source2)\n",
    "usda.sample(5)"
   ]
  },
  {
   "cell_type": "code",
   "execution_count": 49,
   "metadata": {
    "colab": {
     "base_uri": "https://localhost:8080/",
     "height": 343
    },
    "colab_type": "code",
    "id": "dkCrPlu5PAgN",
    "outputId": "3cd0e32d-8e44-482d-ace1-2763a3ae7946"
   },
   "outputs": [
    {
     "data": {
      "text/html": [
       "<div>\n",
       "<style scoped>\n",
       "    .dataframe tbody tr th:only-of-type {\n",
       "        vertical-align: middle;\n",
       "    }\n",
       "\n",
       "    .dataframe tbody tr th {\n",
       "        vertical-align: top;\n",
       "    }\n",
       "\n",
       "    .dataframe thead th {\n",
       "        text-align: right;\n",
       "    }\n",
       "</style>\n",
       "<table border=\"1\" class=\"dataframe\">\n",
       "  <thead>\n",
       "    <tr style=\"text-align: right;\">\n",
       "      <th></th>\n",
       "      <th>Description</th>\n",
       "    </tr>\n",
       "    <tr>\n",
       "      <th>RUCC_2013</th>\n",
       "      <th></th>\n",
       "    </tr>\n",
       "  </thead>\n",
       "  <tbody>\n",
       "    <tr>\n",
       "      <th>1</th>\n",
       "      <td>Metro - Counties in metro areas of 1 million p...</td>\n",
       "    </tr>\n",
       "    <tr>\n",
       "      <th>2</th>\n",
       "      <td>Metro - Counties in metro areas of 250,000 to ...</td>\n",
       "    </tr>\n",
       "    <tr>\n",
       "      <th>3</th>\n",
       "      <td>Metro - Counties in metro areas of fewer than ...</td>\n",
       "    </tr>\n",
       "    <tr>\n",
       "      <th>4</th>\n",
       "      <td>Nonmetro - Urban population of 20,000 or more,...</td>\n",
       "    </tr>\n",
       "    <tr>\n",
       "      <th>5</th>\n",
       "      <td>Nonmetro - Urban population of 20,000 or more,...</td>\n",
       "    </tr>\n",
       "    <tr>\n",
       "      <th>6</th>\n",
       "      <td>Nonmetro - Urban population of 2,500 to 19,999...</td>\n",
       "    </tr>\n",
       "    <tr>\n",
       "      <th>7</th>\n",
       "      <td>Nonmetro - Urban population of 2,500 to 19,999...</td>\n",
       "    </tr>\n",
       "    <tr>\n",
       "      <th>8</th>\n",
       "      <td>Nonmetro - Completely rural or less than 2,500...</td>\n",
       "    </tr>\n",
       "    <tr>\n",
       "      <th>9</th>\n",
       "      <td>Nonmetro - Completely rural or less than 2,500...</td>\n",
       "    </tr>\n",
       "  </tbody>\n",
       "</table>\n",
       "</div>"
      ],
      "text/plain": [
       "                                                 Description\n",
       "RUCC_2013                                                   \n",
       "1          Metro - Counties in metro areas of 1 million p...\n",
       "2          Metro - Counties in metro areas of 250,000 to ...\n",
       "3          Metro - Counties in metro areas of fewer than ...\n",
       "4          Nonmetro - Urban population of 20,000 or more,...\n",
       "5          Nonmetro - Urban population of 20,000 or more,...\n",
       "6          Nonmetro - Urban population of 2,500 to 19,999...\n",
       "7          Nonmetro - Urban population of 2,500 to 19,999...\n",
       "8          Nonmetro - Completely rural or less than 2,500...\n",
       "9          Nonmetro - Completely rural or less than 2,500..."
      ]
     },
     "execution_count": 49,
     "metadata": {},
     "output_type": "execute_result"
    }
   ],
   "source": [
    "# What are those RUCC codes all about?\n",
    "usda.groupby('RUCC_2013')[['Description']].max()"
   ]
  },
  {
   "cell_type": "code",
   "execution_count": 50,
   "metadata": {
    "colab": {},
    "colab_type": "code",
    "id": "E3BHed9TPAgP"
   },
   "outputs": [],
   "source": [
    "# Let's shrink that USDA data to just the columns we need.\n",
    "usda=usda[['FIPS', 'RUCC_2013']]"
   ]
  },
  {
   "cell_type": "code",
   "execution_count": 51,
   "metadata": {
    "colab": {
     "base_uri": "https://localhost:8080/",
     "height": 195
    },
    "colab_type": "code",
    "id": "2pbKxtOePAgR",
    "outputId": "31607b0c-5af4-4cd1-8355-14f97bb4c233"
   },
   "outputs": [
    {
     "data": {
      "text/html": [
       "<div>\n",
       "<style scoped>\n",
       "    .dataframe tbody tr th:only-of-type {\n",
       "        vertical-align: middle;\n",
       "    }\n",
       "\n",
       "    .dataframe tbody tr th {\n",
       "        vertical-align: top;\n",
       "    }\n",
       "\n",
       "    .dataframe thead th {\n",
       "        text-align: right;\n",
       "    }\n",
       "</style>\n",
       "<table border=\"1\" class=\"dataframe\">\n",
       "  <thead>\n",
       "    <tr style=\"text-align: right;\">\n",
       "      <th></th>\n",
       "      <th>CountyId</th>\n",
       "      <th>State</th>\n",
       "      <th>County</th>\n",
       "      <th>MeanCommute</th>\n",
       "      <th>FIPS</th>\n",
       "      <th>RUCC_2013</th>\n",
       "    </tr>\n",
       "  </thead>\n",
       "  <tbody>\n",
       "    <tr>\n",
       "      <th>2884</th>\n",
       "      <td>51135</td>\n",
       "      <td>Virginia</td>\n",
       "      <td>Nottoway County</td>\n",
       "      <td>25.4</td>\n",
       "      <td>51135.0</td>\n",
       "      <td>6.0</td>\n",
       "    </tr>\n",
       "    <tr>\n",
       "      <th>2827</th>\n",
       "      <td>51015</td>\n",
       "      <td>Virginia</td>\n",
       "      <td>Augusta County</td>\n",
       "      <td>23.7</td>\n",
       "      <td>51015.0</td>\n",
       "      <td>3.0</td>\n",
       "    </tr>\n",
       "    <tr>\n",
       "      <th>155</th>\n",
       "      <td>5089</td>\n",
       "      <td>Arkansas</td>\n",
       "      <td>Marion County</td>\n",
       "      <td>22.1</td>\n",
       "      <td>5089.0</td>\n",
       "      <td>9.0</td>\n",
       "    </tr>\n",
       "    <tr>\n",
       "      <th>516</th>\n",
       "      <td>13263</td>\n",
       "      <td>Georgia</td>\n",
       "      <td>Talbot County</td>\n",
       "      <td>34.5</td>\n",
       "      <td>13263.0</td>\n",
       "      <td>8.0</td>\n",
       "    </tr>\n",
       "    <tr>\n",
       "      <th>3135</th>\n",
       "      <td>56033</td>\n",
       "      <td>Wyoming</td>\n",
       "      <td>Sheridan County</td>\n",
       "      <td>16.0</td>\n",
       "      <td>56033.0</td>\n",
       "      <td>7.0</td>\n",
       "    </tr>\n",
       "  </tbody>\n",
       "</table>\n",
       "</div>"
      ],
      "text/plain": [
       "      CountyId     State           County  MeanCommute     FIPS  RUCC_2013\n",
       "2884     51135  Virginia  Nottoway County         25.4  51135.0        6.0\n",
       "2827     51015  Virginia   Augusta County         23.7  51015.0        3.0\n",
       "155       5089  Arkansas    Marion County         22.1   5089.0        9.0\n",
       "516      13263   Georgia    Talbot County         34.5  13263.0        8.0\n",
       "3135     56033   Wyoming  Sheridan County         16.0  56033.0        7.0"
      ]
     },
     "execution_count": 51,
     "metadata": {},
     "output_type": "execute_result"
    }
   ],
   "source": [
    "# Let's merge that with our census data about commute times.\n",
    "metro_commute=pd.merge(commute, usda, left_on='CountyId', right_on='FIPS', how='left')\n",
    "metro_commute.sample(5)"
   ]
  },
  {
   "cell_type": "code",
   "execution_count": 52,
   "metadata": {
    "colab": {
     "base_uri": "https://localhost:8080/",
     "height": 343
    },
    "colab_type": "code",
    "id": "zzG1GnT2PAgT",
    "outputId": "c682ecd9-6f3d-478d-ff7a-7237f0fa0ddb"
   },
   "outputs": [
    {
     "data": {
      "text/html": [
       "<div>\n",
       "<style scoped>\n",
       "    .dataframe tbody tr th:only-of-type {\n",
       "        vertical-align: middle;\n",
       "    }\n",
       "\n",
       "    .dataframe tbody tr th {\n",
       "        vertical-align: top;\n",
       "    }\n",
       "\n",
       "    .dataframe thead th {\n",
       "        text-align: right;\n",
       "    }\n",
       "</style>\n",
       "<table border=\"1\" class=\"dataframe\">\n",
       "  <thead>\n",
       "    <tr style=\"text-align: right;\">\n",
       "      <th></th>\n",
       "      <th>MeanCommute</th>\n",
       "    </tr>\n",
       "    <tr>\n",
       "      <th>RUCC_2013</th>\n",
       "      <th></th>\n",
       "    </tr>\n",
       "  </thead>\n",
       "  <tbody>\n",
       "    <tr>\n",
       "      <th>1.0</th>\n",
       "      <td>29.513347</td>\n",
       "    </tr>\n",
       "    <tr>\n",
       "      <th>2.0</th>\n",
       "      <td>24.721066</td>\n",
       "    </tr>\n",
       "    <tr>\n",
       "      <th>3.0</th>\n",
       "      <td>22.864499</td>\n",
       "    </tr>\n",
       "    <tr>\n",
       "      <th>4.0</th>\n",
       "      <td>22.332258</td>\n",
       "    </tr>\n",
       "    <tr>\n",
       "      <th>5.0</th>\n",
       "      <td>18.686957</td>\n",
       "    </tr>\n",
       "    <tr>\n",
       "      <th>6.0</th>\n",
       "      <td>23.877013</td>\n",
       "    </tr>\n",
       "    <tr>\n",
       "      <th>7.0</th>\n",
       "      <td>19.532488</td>\n",
       "    </tr>\n",
       "    <tr>\n",
       "      <th>8.0</th>\n",
       "      <td>25.707727</td>\n",
       "    </tr>\n",
       "    <tr>\n",
       "      <th>9.0</th>\n",
       "      <td>20.113679</td>\n",
       "    </tr>\n",
       "  </tbody>\n",
       "</table>\n",
       "</div>"
      ],
      "text/plain": [
       "           MeanCommute\n",
       "RUCC_2013             \n",
       "1.0          29.513347\n",
       "2.0          24.721066\n",
       "3.0          22.864499\n",
       "4.0          22.332258\n",
       "5.0          18.686957\n",
       "6.0          23.877013\n",
       "7.0          19.532488\n",
       "8.0          25.707727\n",
       "9.0          20.113679"
      ]
     },
     "execution_count": 52,
     "metadata": {},
     "output_type": "execute_result"
    }
   ],
   "source": [
    "# Is there any difference in commutes by rural-urban designation?\n",
    "drivetimes=metro_commute.groupby('RUCC_2013')[['MeanCommute']].mean()\n",
    "drivetimes"
   ]
  },
  {
   "cell_type": "code",
   "execution_count": 53,
   "metadata": {
    "colab": {
     "base_uri": "https://localhost:8080/",
     "height": 286
    },
    "colab_type": "code",
    "id": "S4Asz0TxPAgW",
    "outputId": "4f823fd7-f46a-4f08-8773-958fcb726e7d"
   },
   "outputs": [
    {
     "data": {
      "image/png": "[encoded data removed]",
      "text/plain": [
       "<Figure size 432x288 with 1 Axes>"
      ]
     },
     "metadata": {
      "needs_background": "light"
     },
     "output_type": "display_data"
    }
   ],
   "source": [
    "# Display that using the Pandas plotting function.\n",
    "drivetimes.plot(kind='bar');"
   ]
  },
  {
   "cell_type": "code",
   "execution_count": 54,
   "metadata": {},
   "outputs": [
    {
     "data": {
      "text/html": [
       "<div>\n",
       "<style scoped>\n",
       "    .dataframe tbody tr th:only-of-type {\n",
       "        vertical-align: middle;\n",
       "    }\n",
       "\n",
       "    .dataframe tbody tr th {\n",
       "        vertical-align: top;\n",
       "    }\n",
       "\n",
       "    .dataframe thead th {\n",
       "        text-align: right;\n",
       "    }\n",
       "</style>\n",
       "<table border=\"1\" class=\"dataframe\">\n",
       "  <thead>\n",
       "    <tr style=\"text-align: right;\">\n",
       "      <th></th>\n",
       "      <th>CountyId</th>\n",
       "      <th>State</th>\n",
       "      <th>County</th>\n",
       "      <th>MeanCommute</th>\n",
       "      <th>FIPS</th>\n",
       "      <th>RUCC_2013</th>\n",
       "    </tr>\n",
       "  </thead>\n",
       "  <tbody>\n",
       "    <tr>\n",
       "      <th>2944</th>\n",
       "      <td>51760</td>\n",
       "      <td>Virginia</td>\n",
       "      <td>Richmond city</td>\n",
       "      <td>21.9</td>\n",
       "      <td>51760.0</td>\n",
       "      <td>1.0</td>\n",
       "    </tr>\n",
       "    <tr>\n",
       "      <th>2926</th>\n",
       "      <td>51620</td>\n",
       "      <td>Virginia</td>\n",
       "      <td>Franklin city</td>\n",
       "      <td>26.2</td>\n",
       "      <td>51620.0</td>\n",
       "      <td>6.0</td>\n",
       "    </tr>\n",
       "    <tr>\n",
       "      <th>2952</th>\n",
       "      <td>51840</td>\n",
       "      <td>Virginia</td>\n",
       "      <td>Winchester city</td>\n",
       "      <td>24.8</td>\n",
       "      <td>51840.0</td>\n",
       "      <td>3.0</td>\n",
       "    </tr>\n",
       "    <tr>\n",
       "      <th>2221</th>\n",
       "      <td>41027</td>\n",
       "      <td>Oregon</td>\n",
       "      <td>Hood River County</td>\n",
       "      <td>17.4</td>\n",
       "      <td>41027.0</td>\n",
       "      <td>6.0</td>\n",
       "    </tr>\n",
       "    <tr>\n",
       "      <th>2864</th>\n",
       "      <td>51091</td>\n",
       "      <td>Virginia</td>\n",
       "      <td>Highland County</td>\n",
       "      <td>22.5</td>\n",
       "      <td>51091.0</td>\n",
       "      <td>8.0</td>\n",
       "    </tr>\n",
       "    <tr>\n",
       "      <th>2904</th>\n",
       "      <td>51177</td>\n",
       "      <td>Virginia</td>\n",
       "      <td>Spotsylvania County</td>\n",
       "      <td>38.2</td>\n",
       "      <td>51177.0</td>\n",
       "      <td>1.0</td>\n",
       "    </tr>\n",
       "  </tbody>\n",
       "</table>\n",
       "</div>"
      ],
      "text/plain": [
       "      CountyId     State               County  MeanCommute     FIPS  RUCC_2013\n",
       "2944     51760  Virginia        Richmond city         21.9  51760.0        1.0\n",
       "2926     51620  Virginia        Franklin city         26.2  51620.0        6.0\n",
       "2952     51840  Virginia      Winchester city         24.8  51840.0        3.0\n",
       "2221     41027    Oregon    Hood River County         17.4  41027.0        6.0\n",
       "2864     51091  Virginia      Highland County         22.5  51091.0        8.0\n",
       "2904     51177  Virginia  Spotsylvania County         38.2  51177.0        1.0"
      ]
     },
     "execution_count": 54,
     "metadata": {},
     "output_type": "execute_result"
    }
   ],
   "source": [
    "# Compare two states\n",
    "two_states = metro_commute[(metro_commute['State']=='Virginia') | (metro_commute['State']=='Oregon')]\n",
    "two_states.sample(6)"
   ]
  },
  {
   "cell_type": "code",
   "execution_count": 55,
   "metadata": {},
   "outputs": [
    {
     "data": {
      "text/html": [
       "<div>\n",
       "<style scoped>\n",
       "    .dataframe tbody tr th:only-of-type {\n",
       "        vertical-align: middle;\n",
       "    }\n",
       "\n",
       "    .dataframe tbody tr th {\n",
       "        vertical-align: top;\n",
       "    }\n",
       "\n",
       "    .dataframe thead th {\n",
       "        text-align: right;\n",
       "    }\n",
       "</style>\n",
       "<table border=\"1\" class=\"dataframe\">\n",
       "  <thead>\n",
       "    <tr style=\"text-align: right;\">\n",
       "      <th></th>\n",
       "      <th></th>\n",
       "      <th>MeanCommute</th>\n",
       "    </tr>\n",
       "    <tr>\n",
       "      <th>State</th>\n",
       "      <th>RUCC_2013</th>\n",
       "      <th></th>\n",
       "    </tr>\n",
       "  </thead>\n",
       "  <tbody>\n",
       "    <tr>\n",
       "      <th rowspan=\"8\" valign=\"top\">Oregon</th>\n",
       "      <th>1.0</th>\n",
       "      <td>27.880000</td>\n",
       "    </tr>\n",
       "    <tr>\n",
       "      <th>2.0</th>\n",
       "      <td>22.666667</td>\n",
       "    </tr>\n",
       "    <tr>\n",
       "      <th>3.0</th>\n",
       "      <td>19.840000</td>\n",
       "    </tr>\n",
       "    <tr>\n",
       "      <th>4.0</th>\n",
       "      <td>18.866667</td>\n",
       "    </tr>\n",
       "    <tr>\n",
       "      <th>5.0</th>\n",
       "      <td>18.066667</td>\n",
       "    </tr>\n",
       "    <tr>\n",
       "      <th>6.0</th>\n",
       "      <td>19.571429</td>\n",
       "    </tr>\n",
       "    <tr>\n",
       "      <th>7.0</th>\n",
       "      <td>15.760000</td>\n",
       "    </tr>\n",
       "    <tr>\n",
       "      <th>9.0</th>\n",
       "      <td>18.660000</td>\n",
       "    </tr>\n",
       "    <tr>\n",
       "      <th rowspan=\"9\" valign=\"top\">Virginia</th>\n",
       "      <th>1.0</th>\n",
       "      <td>30.108333</td>\n",
       "    </tr>\n",
       "    <tr>\n",
       "      <th>2.0</th>\n",
       "      <td>25.557143</td>\n",
       "    </tr>\n",
       "    <tr>\n",
       "      <th>3.0</th>\n",
       "      <td>24.811111</td>\n",
       "    </tr>\n",
       "    <tr>\n",
       "      <th>4.0</th>\n",
       "      <td>22.175000</td>\n",
       "    </tr>\n",
       "    <tr>\n",
       "      <th>5.0</th>\n",
       "      <td>23.900000</td>\n",
       "    </tr>\n",
       "    <tr>\n",
       "      <th>6.0</th>\n",
       "      <td>27.065000</td>\n",
       "    </tr>\n",
       "    <tr>\n",
       "      <th>7.0</th>\n",
       "      <td>22.271429</td>\n",
       "    </tr>\n",
       "    <tr>\n",
       "      <th>8.0</th>\n",
       "      <td>30.264286</td>\n",
       "    </tr>\n",
       "    <tr>\n",
       "      <th>9.0</th>\n",
       "      <td>27.585714</td>\n",
       "    </tr>\n",
       "  </tbody>\n",
       "</table>\n",
       "</div>"
      ],
      "text/plain": [
       "                    MeanCommute\n",
       "State    RUCC_2013             \n",
       "Oregon   1.0          27.880000\n",
       "         2.0          22.666667\n",
       "         3.0          19.840000\n",
       "         4.0          18.866667\n",
       "         5.0          18.066667\n",
       "         6.0          19.571429\n",
       "         7.0          15.760000\n",
       "         9.0          18.660000\n",
       "Virginia 1.0          30.108333\n",
       "         2.0          25.557143\n",
       "         3.0          24.811111\n",
       "         4.0          22.175000\n",
       "         5.0          23.900000\n",
       "         6.0          27.065000\n",
       "         7.0          22.271429\n",
       "         8.0          30.264286\n",
       "         9.0          27.585714"
      ]
     },
     "execution_count": 55,
     "metadata": {},
     "output_type": "execute_result"
    }
   ],
   "source": [
    "# Is there any difference in commutes by rural-urban designation?\n",
    "drivetimes=two_states.groupby(['State','RUCC_2013'])[['MeanCommute']].mean()\n",
    "drivetimes"
   ]
  },
  {
   "cell_type": "markdown",
   "metadata": {
    "colab_type": "text",
    "id": "WsvD1I3TwwnI"
   },
   "source": [
    "**Table 1 --> Tidy**\n",
    "\n",
    "We can use the pandas `melt` function to reshape the table into Tidy format."
   ]
  },
  {
   "cell_type": "code",
   "execution_count": 56,
   "metadata": {},
   "outputs": [
    {
     "data": {
      "text/html": [
       "<div>\n",
       "<style scoped>\n",
       "    .dataframe tbody tr th:only-of-type {\n",
       "        vertical-align: middle;\n",
       "    }\n",
       "\n",
       "    .dataframe tbody tr th {\n",
       "        vertical-align: top;\n",
       "    }\n",
       "\n",
       "    .dataframe thead th {\n",
       "        text-align: right;\n",
       "    }\n",
       "</style>\n",
       "<table border=\"1\" class=\"dataframe\">\n",
       "  <thead>\n",
       "    <tr style=\"text-align: right;\">\n",
       "      <th></th>\n",
       "      <th>state</th>\n",
       "      <th>rural</th>\n",
       "      <th>value</th>\n",
       "    </tr>\n",
       "  </thead>\n",
       "  <tbody>\n",
       "    <tr>\n",
       "      <th>0</th>\n",
       "      <td>Oregon</td>\n",
       "      <td>1.0</td>\n",
       "      <td>27.880000</td>\n",
       "    </tr>\n",
       "    <tr>\n",
       "      <th>1</th>\n",
       "      <td>Oregon</td>\n",
       "      <td>2.0</td>\n",
       "      <td>22.666667</td>\n",
       "    </tr>\n",
       "    <tr>\n",
       "      <th>2</th>\n",
       "      <td>Oregon</td>\n",
       "      <td>3.0</td>\n",
       "      <td>19.840000</td>\n",
       "    </tr>\n",
       "    <tr>\n",
       "      <th>3</th>\n",
       "      <td>Oregon</td>\n",
       "      <td>4.0</td>\n",
       "      <td>18.866667</td>\n",
       "    </tr>\n",
       "    <tr>\n",
       "      <th>4</th>\n",
       "      <td>Oregon</td>\n",
       "      <td>5.0</td>\n",
       "      <td>18.066667</td>\n",
       "    </tr>\n",
       "    <tr>\n",
       "      <th>5</th>\n",
       "      <td>Oregon</td>\n",
       "      <td>6.0</td>\n",
       "      <td>19.571429</td>\n",
       "    </tr>\n",
       "    <tr>\n",
       "      <th>6</th>\n",
       "      <td>Oregon</td>\n",
       "      <td>7.0</td>\n",
       "      <td>15.760000</td>\n",
       "    </tr>\n",
       "    <tr>\n",
       "      <th>7</th>\n",
       "      <td>Oregon</td>\n",
       "      <td>9.0</td>\n",
       "      <td>18.660000</td>\n",
       "    </tr>\n",
       "    <tr>\n",
       "      <th>8</th>\n",
       "      <td>Virginia</td>\n",
       "      <td>1.0</td>\n",
       "      <td>30.108333</td>\n",
       "    </tr>\n",
       "    <tr>\n",
       "      <th>9</th>\n",
       "      <td>Virginia</td>\n",
       "      <td>2.0</td>\n",
       "      <td>25.557143</td>\n",
       "    </tr>\n",
       "    <tr>\n",
       "      <th>10</th>\n",
       "      <td>Virginia</td>\n",
       "      <td>3.0</td>\n",
       "      <td>24.811111</td>\n",
       "    </tr>\n",
       "    <tr>\n",
       "      <th>11</th>\n",
       "      <td>Virginia</td>\n",
       "      <td>4.0</td>\n",
       "      <td>22.175000</td>\n",
       "    </tr>\n",
       "    <tr>\n",
       "      <th>12</th>\n",
       "      <td>Virginia</td>\n",
       "      <td>5.0</td>\n",
       "      <td>23.900000</td>\n",
       "    </tr>\n",
       "    <tr>\n",
       "      <th>13</th>\n",
       "      <td>Virginia</td>\n",
       "      <td>6.0</td>\n",
       "      <td>27.065000</td>\n",
       "    </tr>\n",
       "    <tr>\n",
       "      <th>14</th>\n",
       "      <td>Virginia</td>\n",
       "      <td>7.0</td>\n",
       "      <td>22.271429</td>\n",
       "    </tr>\n",
       "    <tr>\n",
       "      <th>15</th>\n",
       "      <td>Virginia</td>\n",
       "      <td>8.0</td>\n",
       "      <td>30.264286</td>\n",
       "    </tr>\n",
       "    <tr>\n",
       "      <th>16</th>\n",
       "      <td>Virginia</td>\n",
       "      <td>9.0</td>\n",
       "      <td>27.585714</td>\n",
       "    </tr>\n",
       "  </tbody>\n",
       "</table>\n",
       "</div>"
      ],
      "text/plain": [
       "       state rural      value\n",
       "0     Oregon   1.0  27.880000\n",
       "1     Oregon   2.0  22.666667\n",
       "2     Oregon   3.0  19.840000\n",
       "3     Oregon   4.0  18.866667\n",
       "4     Oregon   5.0  18.066667\n",
       "5     Oregon   6.0  19.571429\n",
       "6     Oregon   7.0  15.760000\n",
       "7     Oregon   9.0  18.660000\n",
       "8   Virginia   1.0  30.108333\n",
       "9   Virginia   2.0  25.557143\n",
       "10  Virginia   3.0  24.811111\n",
       "11  Virginia   4.0  22.175000\n",
       "12  Virginia   5.0  23.900000\n",
       "13  Virginia   6.0  27.065000\n",
       "14  Virginia   7.0  22.271429\n",
       "15  Virginia   8.0  30.264286\n",
       "16  Virginia   9.0  27.585714"
      ]
     },
     "execution_count": 56,
     "metadata": {},
     "output_type": "execute_result"
    }
   ],
   "source": [
    "# First, convert the index into columns.\n",
    "tidydrive = drivetimes.T.reset_index().melt(id_vars='index').rename(columns= {\n",
    "    'State': 'state', \n",
    "    'RUCC_2013': 'rural', \n",
    "    'MeanCommute': 'mean_commute'\n",
    "})\n",
    "tidydrive = tidydrive.drop('index', axis=1)\n",
    "tidydrive"
   ]
  },
  {
   "cell_type": "code",
   "execution_count": 57,
   "metadata": {},
   "outputs": [
    {
     "data": {
      "text/html": [
       "<div>\n",
       "<style scoped>\n",
       "    .dataframe tbody tr th:only-of-type {\n",
       "        vertical-align: middle;\n",
       "    }\n",
       "\n",
       "    .dataframe tbody tr th {\n",
       "        vertical-align: top;\n",
       "    }\n",
       "\n",
       "    .dataframe thead th {\n",
       "        text-align: right;\n",
       "    }\n",
       "</style>\n",
       "<table border=\"1\" class=\"dataframe\">\n",
       "  <thead>\n",
       "    <tr style=\"text-align: right;\">\n",
       "      <th>state</th>\n",
       "      <th>rural</th>\n",
       "      <th>Oregon</th>\n",
       "      <th>Virginia</th>\n",
       "    </tr>\n",
       "  </thead>\n",
       "  <tbody>\n",
       "    <tr>\n",
       "      <th>0</th>\n",
       "      <td>1.0</td>\n",
       "      <td>27.880000</td>\n",
       "      <td>30.108333</td>\n",
       "    </tr>\n",
       "    <tr>\n",
       "      <th>1</th>\n",
       "      <td>2.0</td>\n",
       "      <td>22.666667</td>\n",
       "      <td>25.557143</td>\n",
       "    </tr>\n",
       "    <tr>\n",
       "      <th>2</th>\n",
       "      <td>3.0</td>\n",
       "      <td>19.840000</td>\n",
       "      <td>24.811111</td>\n",
       "    </tr>\n",
       "    <tr>\n",
       "      <th>3</th>\n",
       "      <td>4.0</td>\n",
       "      <td>18.866667</td>\n",
       "      <td>22.175000</td>\n",
       "    </tr>\n",
       "    <tr>\n",
       "      <th>4</th>\n",
       "      <td>5.0</td>\n",
       "      <td>18.066667</td>\n",
       "      <td>23.900000</td>\n",
       "    </tr>\n",
       "    <tr>\n",
       "      <th>5</th>\n",
       "      <td>6.0</td>\n",
       "      <td>19.571429</td>\n",
       "      <td>27.065000</td>\n",
       "    </tr>\n",
       "    <tr>\n",
       "      <th>6</th>\n",
       "      <td>7.0</td>\n",
       "      <td>15.760000</td>\n",
       "      <td>22.271429</td>\n",
       "    </tr>\n",
       "    <tr>\n",
       "      <th>7</th>\n",
       "      <td>8.0</td>\n",
       "      <td>NaN</td>\n",
       "      <td>30.264286</td>\n",
       "    </tr>\n",
       "    <tr>\n",
       "      <th>8</th>\n",
       "      <td>9.0</td>\n",
       "      <td>18.660000</td>\n",
       "      <td>27.585714</td>\n",
       "    </tr>\n",
       "  </tbody>\n",
       "</table>\n",
       "</div>"
      ],
      "text/plain": [
       "state  rural     Oregon   Virginia\n",
       "0        1.0  27.880000  30.108333\n",
       "1        2.0  22.666667  25.557143\n",
       "2        3.0  19.840000  24.811111\n",
       "3        4.0  18.866667  22.175000\n",
       "4        5.0  18.066667  23.900000\n",
       "5        6.0  19.571429  27.065000\n",
       "6        7.0  15.760000  22.271429\n",
       "7        8.0        NaN  30.264286\n",
       "8        9.0  18.660000  27.585714"
      ]
     },
     "execution_count": 57,
     "metadata": {},
     "output_type": "execute_result"
    }
   ],
   "source": [
    "# Let's do it all in reverse.\n",
    "widedrive = tidydrive.pivot_table(index='rural', columns='state', values='value')\n",
    "widedrive.reset_index(level=0, inplace=True)\n",
    "widedrive"
   ]
  },
  {
   "cell_type": "code",
   "execution_count": 58,
   "metadata": {},
   "outputs": [
    {
     "data": {
      "image/png": "[encoded data removed]",
      "text/plain": [
       "<Figure size 432x288 with 1 Axes>"
      ]
     },
     "metadata": {
      "needs_background": "light"
     },
     "output_type": "display_data"
    }
   ],
   "source": [
    "# Display that using the Pandas plotting function.\n",
    "widedrive.plot(x='rural', y=['Oregon', 'Virginia'], kind='bar');"
   ]
  }
 ],
 "metadata": {
  "colab": {
   "collapsed_sections": [],
   "name": "LS_DS_113_Join_and_Reshape_Data.ipynb",
   "provenance": []
  },
  "kernelspec": {
   "display_name": "Python 3",
   "language": "python",
   "name": "python3"
  },
  "language_info": {
   "codemirror_mode": {
    "name": "ipython",
    "version": 3
   },
   "file_extension": ".py",
   "mimetype": "text/x-python",
   "name": "python",
   "nbconvert_exporter": "python",
   "pygments_lexer": "ipython3",
   "version": "3.8.2"
  }
 },
 "nbformat": 4,
 "nbformat_minor": 1
}
