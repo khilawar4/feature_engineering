{
 "cells": [
  {
   "cell_type": "markdown",
   "metadata": {},
   "source": [
    "<img src=\"http://imgur.com/1ZcRyrc.png\" style=\"float: left; margin: 20px; height: 55px\">\n",
    "\n",
    "# Data analysis: exchange rates"
   ]
  },
  {
   "cell_type": "markdown",
   "metadata": {},
   "source": [
    "In this exercise you will practise what you've learned so far on a new dataset.\n",
    "\n",
    "The dataset comes from Kaggle, via the Federal Reserve and contains _\"data on exchange rates between the US dollar, 23 other currencies, and three benchmark indexes\"_\n",
    "\n",
    "You can read more about the dataset here: https://www.kaggle.com/federalreserve/exchange-rates/data"
   ]
  },
  {
   "cell_type": "markdown",
   "metadata": {},
   "source": [
    "# Section 1: EDA with `pandas`\n",
    "\n",
    "### 1. Use `pandas` to load in the dataset (exchange_rates.csv in the data folder)"
   ]
  },
  {
   "cell_type": "code",
   "execution_count": null,
   "metadata": {},
   "outputs": [],
   "source": []
  },
  {
   "cell_type": "markdown",
   "metadata": {},
   "source": [
    "### 2. Load the dataset in... take 2!\n",
    "\n",
    "You'll notice there's something amiss! As the data description on the Kaggle site says, the first few rows are headers, which you'll want to decide what to do with.\n",
    "\n",
    "Load the dataset in again, ignoring the header rows. Don't worry about column names at this stage, we'll deal with them later."
   ]
  },
  {
   "cell_type": "code",
   "execution_count": null,
   "metadata": {},
   "outputs": [],
   "source": []
  },
  {
   "cell_type": "markdown",
   "metadata": {},
   "source": [
    "### 3. Let's compare exchange rates for Japan, Korea, and Thailand\n",
    "\n",
    "Extract only the columns for the date, and the three countries mentioned above into a new DataFrame.\n",
    "\n",
    "Rename the columns of this new DataFrame to be more meaningful."
   ]
  },
  {
   "cell_type": "code",
   "execution_count": null,
   "metadata": {},
   "outputs": [],
   "source": []
  },
  {
   "cell_type": "markdown",
   "metadata": {},
   "source": [
    "### 4. Convert the date column to an actual date type"
   ]
  },
  {
   "cell_type": "code",
   "execution_count": null,
   "metadata": {},
   "outputs": [],
   "source": []
  },
  {
   "cell_type": "markdown",
   "metadata": {},
   "source": [
    "### 5. Verify the change by examining the data types of the DataFrame"
   ]
  },
  {
   "cell_type": "code",
   "execution_count": null,
   "metadata": {},
   "outputs": [],
   "source": []
  },
  {
   "cell_type": "markdown",
   "metadata": {},
   "source": [
    "### 6. How many missing rows do we have for each currency?"
   ]
  },
  {
   "cell_type": "code",
   "execution_count": null,
   "metadata": {},
   "outputs": [],
   "source": []
  },
  {
   "cell_type": "markdown",
   "metadata": {},
   "source": [
    "### 7. Find the non-numeric values in the three currency columns.\n",
    "\n",
    "Notice how even though Japanese yen doesn't have missing values it's still not a \"float\" type.\n",
    "\n",
    "This typically means there are some non-numeric values in there, which aren't \"NULL\" so don't show up as issues when we count missing values.\n",
    "\n",
    "Use `pandas` to find the non-numeric values.\n",
    "\n",
    "Hint - here are a couple of suggestions:\n",
    "\n",
    "- You could find the unique values in each column and find the non-numeric ones by eye (further hint: sorting will help!)\n",
    "- Another option is to loop through each value in each column, try to convert them to numbers and print the failures\n",
    "- Or just get creative, often there are many ways to achieve the same thing with `pandas`!"
   ]
  },
  {
   "cell_type": "code",
   "execution_count": null,
   "metadata": {},
   "outputs": [],
   "source": []
  },
  {
   "cell_type": "markdown",
   "metadata": {},
   "source": [
    "### 8. Count the *true* number of missing values per currency\n",
    "\n",
    "Now we know that missing values aren't the only ways we can have invalid values. Count the number of missing **or invalid** values per currency."
   ]
  },
  {
   "cell_type": "code",
   "execution_count": null,
   "metadata": {},
   "outputs": [],
   "source": []
  },
  {
   "cell_type": "markdown",
   "metadata": {},
   "source": [
    "### 9. Find the first and last date encountered for each currency"
   ]
  },
  {
   "cell_type": "code",
   "execution_count": null,
   "metadata": {},
   "outputs": [],
   "source": []
  },
  {
   "cell_type": "markdown",
   "metadata": {},
   "source": [
    "# Section 2: Visualising the data"
   ]
  },
  {
   "cell_type": "markdown",
   "metadata": {},
   "source": [
    "### 10. Visualising average rates\n",
    "\n",
    "a. Create a new DataFrame with the date and FIVE currencies\n",
    "\n",
    "b. Calculate the average rate for each currency. Remember you'll need to deal with the non-numerics!\n",
    "\n",
    "c. Choose an appropriate chart to visualise these averages. Make your plot \"publication ready\" (legends, axis labels etc.)"
   ]
  },
  {
   "cell_type": "code",
   "execution_count": null,
   "metadata": {},
   "outputs": [],
   "source": []
  },
  {
   "cell_type": "markdown",
   "metadata": {},
   "source": [
    "### 11. Now calculate the min and max rates per currency, and plot as a grouped bar chart"
   ]
  },
  {
   "cell_type": "code",
   "execution_count": null,
   "metadata": {},
   "outputs": [],
   "source": []
  },
  {
   "cell_type": "markdown",
   "metadata": {},
   "source": [
    "### 12. Plot the annual average value of your currencies using an appropriate plot"
   ]
  },
  {
   "cell_type": "code",
   "execution_count": null,
   "metadata": {},
   "outputs": [],
   "source": []
  },
  {
   "cell_type": "markdown",
   "metadata": {},
   "source": [
    "# Section 3: Descriptive statistics"
   ]
  },
  {
   "cell_type": "markdown",
   "metadata": {},
   "source": [
    "### 13. Calculate the \"five number summaries\" for each of your 5 currencies"
   ]
  },
  {
   "cell_type": "code",
   "execution_count": null,
   "metadata": {},
   "outputs": [],
   "source": []
  },
  {
   "cell_type": "markdown",
   "metadata": {},
   "source": [
    "### 14. Distributions\n",
    "\n",
    "Plot the distribution of the exchange rate for Japanese yen. What can you conclude?"
   ]
  },
  {
   "cell_type": "code",
   "execution_count": null,
   "metadata": {},
   "outputs": [],
   "source": []
  },
  {
   "cell_type": "markdown",
   "metadata": {},
   "source": [
    "### 14. Distribution over time\n",
    "\n",
    "Now group the data into decades and plot the distribution of the Japanese yen exchange rate for each decade.\n",
    "\n",
    "Some steps you may want to go through:\n",
    "\n",
    "- Create a \"decade\" column using the date column\n",
    "- Create a distribution plot per decade (either a separate plot for each decade, or combine them somehow)"
   ]
  },
  {
   "cell_type": "code",
   "execution_count": null,
   "metadata": {},
   "outputs": [],
   "source": []
  }
 ],
 "metadata": {
  "kernelspec": {
   "display_name": "Python 3",
   "language": "python",
   "name": "python3"
  },
  "language_info": {
   "codemirror_mode": {
    "name": "ipython",
    "version": 3
   },
   "file_extension": ".py",
   "mimetype": "text/x-python",
   "name": "python",
   "nbconvert_exporter": "python",
   "pygments_lexer": "ipython3",
   "version": "3.8.3"
  }
 },
 "nbformat": 4,
 "nbformat_minor": 4
}
